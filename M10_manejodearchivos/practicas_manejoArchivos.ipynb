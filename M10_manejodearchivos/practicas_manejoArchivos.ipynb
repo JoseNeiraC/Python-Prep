{
 "cells": [
  {
   "cell_type": "code",
   "execution_count": 17,
   "metadata": {},
   "outputs": [
    {
     "data": {
      "text/plain": [
       "' ENTRADAS / SALIDAS'"
      ]
     },
     "execution_count": 17,
     "metadata": {},
     "output_type": "execute_result"
    }
   ],
   "source": [
    "\"\"\" ENTRADAS / SALIDAS\"\"\"\n"
   ]
  },
  {
   "cell_type": "code",
   "execution_count": 1,
   "metadata": {},
   "outputs": [
    {
     "name": "stdout",
     "output_type": "stream",
     "text": [
      "Esto es un string\n",
      "contenido de variable\n"
     ]
    }
   ],
   "source": [
    "\" uso de print\"\n",
    "\n",
    "# presentacion directa de un string\n",
    "\n",
    "print('Esto es un string')\n",
    "\n",
    "# presentacion del contenido de una variable\n",
    "\n",
    "var = 'contenido de variable'\n",
    "print(var)\n"
   ]
  },
  {
   "cell_type": "code",
   "execution_count": null,
   "metadata": {},
   "outputs": [
    {
     "name": "stdout",
     "output_type": "stream",
     "text": [
      "impresion de >  contenido de variable\n",
      "contenido de variable se ha impreso\n",
      "este es un string Esta oracion es un string En total, tenemos 4 oraciones.\n"
     ]
    }
   ],
   "source": [
    "# Unir strings con variables\n",
    "#Caso 1: Separandolos con comas\n",
    "\n",
    "print('impresion de > ',var)\n",
    "\n",
    "#Caso 2: Separandolos con mas > +\n",
    "\n",
    "print(var + ' se ha impreso')\n",
    "\n",
    "# Imprimir y contar numero de oraciones \"\"\" INVESTIGAR\"\n",
    "\n",
    "var = 'Esta oracion es un string'\n",
    "num_oraciones = 3\n",
    "print('este es un string %s En total, tenemos %d oraciones.'%(var, num_oraciones))\n",
    "\n",
    "# parece que %s y %d indican las ubicaciones del contenido de % indicado al final\n",
    "\n",
    "\"\"\" %s = string , %d = numero , %r = variable booleana. Al final se introduce las variables citadas\"\"\"\n",
    "\n",
    "# Pregunta a realizar en ultima clase\n",
    "#   Lei que han cambiado el modelo de prueba, y que ahora es de seleccion multiple. Como se procederia con los problemas a resolver y los codigos a escribir? \n",
    "#   En la simulacion se menciona una prueba de matematicas, pero en el pre mencionaron que el curso de matematicas era optativo. En la prueba tambien se va a considerar el material del curso de matematicas?"
   ]
  },
  {
   "cell_type": "code",
   "execution_count": null,
   "metadata": {},
   "outputs": [
    {
     "name": "stdout",
     "output_type": "stream",
     "text": [
      "Hemos visto 5 formas de mostrar 3  oraciones en la pantalla\n"
     ]
    }
   ],
   "source": [
    "# f-strings > strings formateados\n",
    "\"\"\" VENTAJA: Permite realizar operacions sobre las variables en el mismo string de forma sencilla\"\"\"\n",
    "num_oraciones = 3\n",
    "\n",
    "print(f'Hemos visto {num_oraciones+2} formas de mostrar {num_oraciones}  oraciones en la pantalla')"
   ]
  },
  {
   "cell_type": "code",
   "execution_count": 2,
   "metadata": {},
   "outputs": [
    {
     "name": "stdout",
     "output_type": "stream",
     "text": [
      "red\n"
     ]
    }
   ],
   "source": [
    "\"\"\"INPUT\"\"\"\n",
    "\n",
    "color = input('Cual es tu color favorito?')\n",
    "print(color)"
   ]
  },
  {
   "cell_type": "code",
   "execution_count": 4,
   "metadata": {},
   "outputs": [
    {
     "name": "stdout",
     "output_type": "stream",
     "text": [
      "<class 'str'>\n",
      "34\n"
     ]
    }
   ],
   "source": [
    "# Si pides ingresar un numero, este seguira siendo un string\n",
    "\n",
    "numero = input ('Ingresa un numero')\n",
    "print(type(numero))\n",
    "print(numero)\n"
   ]
  },
  {
   "cell_type": "code",
   "execution_count": 5,
   "metadata": {},
   "outputs": [
    {
     "name": "stdout",
     "output_type": "stream",
     "text": [
      "<class 'int'>\n",
      "21\n"
     ]
    }
   ],
   "source": [
    "# Necesitas cambiar el tipod de dato para luego poder usarlo\n",
    "\n",
    "numero = int(input ('Ingresa un numero'))\n",
    "print(type(numero))\n",
    "print(numero)"
   ]
  },
  {
   "cell_type": "code",
   "execution_count": 6,
   "metadata": {},
   "outputs": [
    {
     "data": {
      "text/plain": [
       "['Carpeta_Nueva',\n",
       " 'clase09_ej1.py',\n",
       " 'clase09_ej2.csv',\n",
       " 'clase09_ej2.py',\n",
       " 'clase09_montañas_altas',\n",
       " 'datos.txt',\n",
       " 'ejemplo_parametros.py',\n",
       " 'practicas_manejoArchivos.ipynb',\n",
       " 'Prep_Course_Homework_09-Resuelto.ipynb',\n",
       " 'Prep_Course_Homework_09-Resuelto.py',\n",
       " 'Prep_Course_Homework_09.md',\n",
       " 'saludo.py',\n",
       " '__pycache__']"
      ]
     },
     "execution_count": 6,
     "metadata": {},
     "output_type": "execute_result"
    }
   ],
   "source": [
    "\"\"\" Interactura con el sistema de archivos\n",
    "\n",
    "IMPORTANTE: importar libreria OS para poder ineractuar\"\"\"\n",
    "\n",
    "import os\n",
    "\n",
    "#   makedirs    >   Crea un directorio\n",
    "\n",
    "os.makedirs ('Carpeta_Nueva')\n",
    "\n",
    "#   listdir     >   Listar el contenido de una carpeta de trabajo\n",
    "\n",
    "os.listdir ('./')\n",
    "\n"
   ]
  },
  {
   "cell_type": "code",
   "execution_count": 10,
   "metadata": {},
   "outputs": [
    {
     "data": {
      "text/plain": [
       "'c:\\\\Users\\\\JOSEM\\\\OneDrive\\\\Escritorio\\\\Python-Prep\\\\M10_manejodearchivos'"
      ]
     },
     "execution_count": 10,
     "metadata": {},
     "output_type": "execute_result"
    }
   ],
   "source": [
    "# getcwd      >   Mostrar directorio de trabajo\n",
    "# getcwd = get current working directory\n",
    "\n",
    "os.getcwd()\n"
   ]
  },
  {
   "cell_type": "code",
   "execution_count": 11,
   "metadata": {},
   "outputs": [
    {
     "data": {
      "text/plain": [
       "0"
      ]
     },
     "execution_count": 11,
     "metadata": {},
     "output_type": "execute_result"
    }
   ],
   "source": [
    "# getsize       >   Obtener el tamano (size) de un archivo\n",
    "# Sintaxis      >   path.getsize\n",
    "\n",
    "os.path.getsize('Carpeta_Nueva')"
   ]
  },
  {
   "cell_type": "code",
   "execution_count": 12,
   "metadata": {},
   "outputs": [
    {
     "data": {
      "text/plain": [
       "False"
      ]
     },
     "execution_count": 12,
     "metadata": {},
     "output_type": "execute_result"
    }
   ],
   "source": [
    "# isfile     >   Verificar si el parametro ingresado es un archivo\n",
    "# Sintaxis   >   path.isfile\n",
    "\n",
    "os.path.isfile('Carpeta_Nueva')"
   ]
  },
  {
   "cell_type": "code",
   "execution_count": 13,
   "metadata": {},
   "outputs": [
    {
     "data": {
      "text/plain": [
       "True"
      ]
     },
     "execution_count": 13,
     "metadata": {},
     "output_type": "execute_result"
    }
   ],
   "source": [
    "# isdir     >   Verificar si el parametro ingresado es una carpeta\n",
    "# Sintaxis  >   path.isdir\n",
    "\n",
    "os.path.isdir('Carpeta_Nueva')"
   ]
  },
  {
   "cell_type": "code",
   "execution_count": 15,
   "metadata": {},
   "outputs": [
    {
     "data": {
      "text/plain": [
       "'c:\\\\Users\\\\JOSEM\\\\OneDrive\\\\Escritorio\\\\Python-Prep\\\\M10_manejodearchivos\\\\clase09_montañas_altas'"
      ]
     },
     "execution_count": 15,
     "metadata": {},
     "output_type": "execute_result"
    }
   ],
   "source": [
    "# chdir     >   Cambiar de directorio\n",
    "# Sintaxis  >   path.chdir\n",
    "\n",
    "os.chdir('clase09_montañas_altas')\n",
    "os.getcwd()"
   ]
  },
  {
   "cell_type": "code",
   "execution_count": 19,
   "metadata": {},
   "outputs": [
    {
     "ename": "FileNotFoundError",
     "evalue": "[WinError 2] El sistema no puede encontrar el archivo especificado: 'nombre' -> 'Nombre_Nuevo'",
     "output_type": "error",
     "traceback": [
      "\u001b[1;31m---------------------------------------------------------------------------\u001b[0m",
      "\u001b[1;31mFileNotFoundError\u001b[0m                         Traceback (most recent call last)",
      "Cell \u001b[1;32mIn[19], line 4\u001b[0m\n\u001b[0;32m      1\u001b[0m \u001b[38;5;66;03m# rename     >   Cambiar nombre de archivo\u001b[39;00m\n\u001b[1;32m----> 4\u001b[0m \u001b[43mos\u001b[49m\u001b[38;5;241;43m.\u001b[39;49m\u001b[43mrename\u001b[49m\u001b[43m(\u001b[49m\u001b[38;5;124;43m'\u001b[39;49m\u001b[38;5;124;43mnombre\u001b[39;49m\u001b[38;5;124;43m'\u001b[39;49m\u001b[43m,\u001b[49m\u001b[38;5;124;43m'\u001b[39;49m\u001b[38;5;124;43mNombre_Nuevo\u001b[39;49m\u001b[38;5;124;43m'\u001b[39;49m\u001b[43m)\u001b[49m\n",
      "\u001b[1;31mFileNotFoundError\u001b[0m: [WinError 2] El sistema no puede encontrar el archivo especificado: 'nombre' -> 'Nombre_Nuevo'"
     ]
    }
   ],
   "source": [
    "# rename     >   Cambiar nombre de archivo\n",
    "\n",
    "\n",
    "os.rename('nombre','Nombre_Nuevo')"
   ]
  },
  {
   "cell_type": "code",
   "execution_count": 20,
   "metadata": {},
   "outputs": [
    {
     "ename": "FileNotFoundError",
     "evalue": "[WinError 2] El sistema no puede encontrar el archivo especificado: 'c:\\\\Users\\\\JOSEM\\\\OneDrive\\\\Escritorio\\\\Python-Prep\\\\M10_manejodearchivos\\\\clase09_montañas_altas/Nombre_Nuevo.py'",
     "output_type": "error",
     "traceback": [
      "\u001b[1;31m---------------------------------------------------------------------------\u001b[0m",
      "\u001b[1;31mFileNotFoundError\u001b[0m                         Traceback (most recent call last)",
      "Cell \u001b[1;32mIn[20], line 4\u001b[0m\n\u001b[0;32m      1\u001b[0m \u001b[38;5;66;03m# remove     >   Eliminar un archivo\u001b[39;00m\n\u001b[0;32m      2\u001b[0m \u001b[38;5;66;03m# Sintaxis  >   Indicar ruta + nombre de archivo\u001b[39;00m\n\u001b[1;32m----> 4\u001b[0m \u001b[43mos\u001b[49m\u001b[38;5;241;43m.\u001b[39;49m\u001b[43mremove\u001b[49m\u001b[43m(\u001b[49m\u001b[43mos\u001b[49m\u001b[38;5;241;43m.\u001b[39;49m\u001b[43mgetcwd\u001b[49m\u001b[43m(\u001b[49m\u001b[43m)\u001b[49m\u001b[43m \u001b[49m\u001b[38;5;241;43m+\u001b[39;49m\u001b[43m \u001b[49m\u001b[38;5;124;43m'\u001b[39;49m\u001b[38;5;124;43m/Nombre_Nuevo.py\u001b[39;49m\u001b[38;5;124;43m'\u001b[39;49m\u001b[43m)\u001b[49m\n",
      "\u001b[1;31mFileNotFoundError\u001b[0m: [WinError 2] El sistema no puede encontrar el archivo especificado: 'c:\\\\Users\\\\JOSEM\\\\OneDrive\\\\Escritorio\\\\Python-Prep\\\\M10_manejodearchivos\\\\clase09_montañas_altas/Nombre_Nuevo.py'"
     ]
    }
   ],
   "source": [
    "# remove     >   Eliminar un archivo\n",
    "# Sintaxis  >   Indicar ruta + nombre de archivo\n",
    "\n",
    "os.remove(os.getcwd() + '/Nombre_Nuevo.py')"
   ]
  },
  {
   "cell_type": "code",
   "execution_count": null,
   "metadata": {},
   "outputs": [],
   "source": [
    "\"\"\" Manejo de archivos\n",
    "\n",
    "Uso de open()\"\"\""
   ]
  },
  {
   "cell_type": "code",
   "execution_count": 39,
   "metadata": {},
   "outputs": [],
   "source": [
    "import os\n",
    "\n",
    "ingredientes = ['Aceite', 'tomate', 'cebolla']\n",
    "\n",
    "archivo = open('datos.txt','w')     # w, escritura\n"
   ]
  },
  {
   "cell_type": "code",
   "execution_count": 40,
   "metadata": {},
   "outputs": [],
   "source": [
    "for elemento in ingredientes:\n",
    "    archivo.write(elemento + '\\n')      # \\n indica el final de la linea\n"
   ]
  },
  {
   "cell_type": "code",
   "execution_count": 41,
   "metadata": {},
   "outputs": [],
   "source": [
    "archivo.close()         # Si no cierras el archivo el sistema entendera que sigue abierto (en edicion)"
   ]
  },
  {
   "cell_type": "code",
   "execution_count": 42,
   "metadata": {},
   "outputs": [],
   "source": [
    "import os\n",
    "\n",
    "archivo = open('datos.txt','r')     # r, lectura < Lo mejor para evitar modificar el archivo si olo vamos a extraer los datos\n",
    "\n"
   ]
  },
  {
   "cell_type": "code",
   "execution_count": 43,
   "metadata": {},
   "outputs": [
    {
     "name": "stdout",
     "output_type": "stream",
     "text": [
      "Aceite\n",
      "\n",
      "tomate\n",
      "\n",
      "cebolla\n",
      "\n"
     ]
    }
   ],
   "source": [
    "for linea in archivo:\n",
    "    print(linea)\n",
    "\n",
    "archivo.close()\n"
   ]
  }
 ],
 "metadata": {
  "kernelspec": {
   "display_name": "Python 3",
   "language": "python",
   "name": "python3"
  },
  "language_info": {
   "codemirror_mode": {
    "name": "ipython",
    "version": 3
   },
   "file_extension": ".py",
   "mimetype": "text/x-python",
   "name": "python",
   "nbconvert_exporter": "python",
   "pygments_lexer": "ipython3",
   "version": "3.11.7"
  }
 },
 "nbformat": 4,
 "nbformat_minor": 2
}
