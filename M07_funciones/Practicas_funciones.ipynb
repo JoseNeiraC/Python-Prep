{
 "cells": [
  {
   "cell_type": "code",
   "execution_count": 2,
   "metadata": {},
   "outputs": [],
   "source": [
    "# Declaracion de funciones\n",
    "\n",
    "def calcular_area(lado1,lado2):\n",
    "    area = lado1 * lado2\n",
    "    return area"
   ]
  },
  {
   "cell_type": "code",
   "execution_count": 3,
   "metadata": {},
   "outputs": [
    {
     "data": {
      "text/plain": [
       "20"
      ]
     },
     "execution_count": 3,
     "metadata": {},
     "output_type": "execute_result"
    }
   ],
   "source": [
    "# Probar funcion\n",
    "\n",
    "calcular_area(4,5)"
   ]
  },
  {
   "cell_type": "code",
   "execution_count": 11,
   "metadata": {},
   "outputs": [],
   "source": [
    "# Parametros default\n",
    "\n",
    "def saludar(nombre, saludo = 'Hola'):\n",
    "    print(saludo + \",\" + nombre)"
   ]
  },
  {
   "cell_type": "code",
   "execution_count": 10,
   "metadata": {},
   "outputs": [
    {
     "name": "stdout",
     "output_type": "stream",
     "text": [
      "Hola,Jose\n"
     ]
    }
   ],
   "source": [
    "# Probar funcion\n",
    "saludar('Jose')"
   ]
  },
  {
   "cell_type": "code",
   "execution_count": 22,
   "metadata": {},
   "outputs": [],
   "source": [
    "# Una funcion puede devolver diferentes tipos de datos\n",
    "\n",
    "def dividir(dividendo, divisor):\n",
    "    cociente = dividendo // divisor\n",
    "    residuo = dividendo % divisor\n",
    "    return print(f'El valor del cociente es {cociente} y el valor del residuo es {residuo}')\n"
   ]
  },
  {
   "cell_type": "code",
   "execution_count": 17,
   "metadata": {},
   "outputs": [
    {
     "name": "stdout",
     "output_type": "stream",
     "text": [
      "El valor del cociente es 3 y el valor del residuo es 1\n"
     ]
    }
   ],
   "source": [
    "dividir(7,2)\n"
   ]
  },
  {
   "cell_type": "code",
   "execution_count": 18,
   "metadata": {},
   "outputs": [],
   "source": [
    "# Devolver a variables el resultado de una funcion\n",
    "\n",
    "def obtener_edad ():\n",
    "    return 30\n"
   ]
  },
  {
   "cell_type": "code",
   "execution_count": 20,
   "metadata": {},
   "outputs": [
    {
     "name": "stdout",
     "output_type": "stream",
     "text": [
      "La edad es 30\n"
     ]
    }
   ],
   "source": [
    "edad = obtener_edad()\n",
    "print('La edad es',edad)"
   ]
  },
  {
   "cell_type": "code",
   "execution_count": 25,
   "metadata": {},
   "outputs": [
    {
     "name": "stdout",
     "output_type": "stream",
     "text": [
      "El valor del cociente es 3 y el valor del residuo es 0\n",
      "None\n"
     ]
    },
    {
     "ename": "NameError",
     "evalue": "name 'dividendo' is not defined",
     "output_type": "error",
     "traceback": [
      "\u001b[1;31m---------------------------------------------------------------------------\u001b[0m",
      "\u001b[1;31mNameError\u001b[0m                                 Traceback (most recent call last)",
      "Cell \u001b[1;32mIn[25], line 9\u001b[0m\n\u001b[0;32m      5\u001b[0m \u001b[38;5;28mprint\u001b[39m (dividir(\u001b[38;5;241m6\u001b[39m,\u001b[38;5;241m2\u001b[39m))\n\u001b[0;32m      7\u001b[0m \u001b[38;5;66;03m# variable local no esta disponible fuera de la funcion que la contiene\u001b[39;00m\n\u001b[0;32m      8\u001b[0m \u001b[38;5;66;03m# def dividir(dividendo, divisor):\u001b[39;00m\n\u001b[1;32m----> 9\u001b[0m \u001b[38;5;28mprint\u001b[39m (\u001b[43mdividendo\u001b[49m)\n",
      "\u001b[1;31mNameError\u001b[0m: name 'dividendo' is not defined"
     ]
    }
   ],
   "source": [
    "# Diferencias entre variable local y variable global\n",
    "\n",
    "# variable global esta disponible para todo el codigo Ej:\n",
    "\n",
    "print (dividir(6,2))\n",
    "\n",
    "# variable local no esta disponible fuera de la funcion que la contiene\n",
    "# def dividir(dividendo, divisor):\n",
    "print (dividendo)\n"
   ]
  },
  {
   "cell_type": "code",
   "execution_count": 35,
   "metadata": {},
   "outputs": [],
   "source": [
    "# Desde dentro de la funcion si se tiene acceso a variables globales que estan fuera de la funcion\n",
    "\n",
    "divisor = 4\n",
    "\n",
    "def dividir(dividendo):\n",
    "    cociente = dividendo // divisor\n",
    "    residuo = dividendo % divisor\n",
    "    return print(f'El valor del cociente es {cociente} y el valor del residuo es {residuo}')\n",
    "\n"
   ]
  },
  {
   "cell_type": "code",
   "execution_count": 36,
   "metadata": {},
   "outputs": [
    {
     "name": "stdout",
     "output_type": "stream",
     "text": [
      "El valor del cociente es 2 y el valor del residuo es 2\n",
      "4\n"
     ]
    }
   ],
   "source": [
    "\n",
    "dividir(10)\n",
    "\n",
    "print(divisor)"
   ]
  }
 ],
 "metadata": {
  "kernelspec": {
   "display_name": "Python 3",
   "language": "python",
   "name": "python3"
  },
  "language_info": {
   "codemirror_mode": {
    "name": "ipython",
    "version": 3
   },
   "file_extension": ".py",
   "mimetype": "text/x-python",
   "name": "python",
   "nbconvert_exporter": "python",
   "pygments_lexer": "ipython3",
   "version": "3.11.7"
  }
 },
 "nbformat": 4,
 "nbformat_minor": 2
}
