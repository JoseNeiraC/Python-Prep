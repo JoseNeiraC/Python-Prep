{
 "cells": [
  {
   "attachments": {},
   "cell_type": "markdown",
   "metadata": {},
   "source": [
    "## Funciones"
   ]
  },
  {
   "attachments": {},
   "cell_type": "markdown",
   "metadata": {},
   "source": [
    "1) Crear una función que reciba un número como parámetro y devuelva True si es primo y False si no lo es"
   ]
  },
  {
   "cell_type": "code",
   "execution_count": 4,
   "metadata": {},
   "outputs": [],
   "source": [
    "def numero_primo(numero):\n",
    "    primo = True\n",
    "    for div in range (2,numero):\n",
    "        if numero % div == 0:\n",
    "            primo = False\n",
    "            break\n",
    "        \n",
    "    return primo\n",
    "    \n",
    "\n"
   ]
  },
  {
   "cell_type": "code",
   "execution_count": 5,
   "metadata": {},
   "outputs": [
    {
     "data": {
      "text/plain": [
       "False"
      ]
     },
     "execution_count": 5,
     "metadata": {},
     "output_type": "execute_result"
    }
   ],
   "source": [
    "numero_primo(6)"
   ]
  },
  {
   "attachments": {},
   "cell_type": "markdown",
   "metadata": {},
   "source": [
    "2) Utilizando la función del punto 1, realizar otra función que reciba de parámetro una lista de números y devuelva sólo aquellos que son primos en otra lista"
   ]
  },
  {
   "cell_type": "code",
   "execution_count": 6,
   "metadata": {},
   "outputs": [],
   "source": [
    "def extrae_numeros_primos(lista):\n",
    "    lista_primos = []\n",
    "    for elemento in lista: # == True esta sobre entendido\n",
    "        if numero_primo(int(elemento)):\n",
    "            lista_primos.append(elemento)\n",
    "    return lista_primos\n",
    "    "
   ]
  },
  {
   "cell_type": "code",
   "execution_count": 7,
   "metadata": {},
   "outputs": [
    {
     "name": "stdout",
     "output_type": "stream",
     "text": [
      "[2, 3, 5, 7]\n"
     ]
    }
   ],
   "source": [
    "numeros = [2,3,4,5,6,7,8,9,10] # = numeros = list(range(2,11))\n",
    "primos = extrae_numeros_primos(numeros)\n",
    "print(primos)\n"
   ]
  },
  {
   "attachments": {},
   "cell_type": "markdown",
   "metadata": {},
   "source": [
    "3) Crear una función que al recibir una lista de números, devuelva el que más se repite y cuántas veces lo hace. Si hay más de un \"más repetido\", que devuelva cualquiera"
   ]
  },
  {
   "cell_type": "code",
   "execution_count": null,
   "metadata": {},
   "outputs": [],
   "source": [
    "# Pendiente. Usar libreria collection, metodos get y max"
   ]
  },
  {
   "attachments": {},
   "cell_type": "markdown",
   "metadata": {},
   "source": [
    "4) Crear una función que convierta entre grados Celsius, Farenheit y Kelvin<br>\n",
    "Fórmula 1\t: (°C × 9/5) + 32 = °F<br>\n",
    "Fórmula 2\t: °C + 273.15 = °K<br>\n",
    "Debe recibir 3 parámetros: el valor, la medida de orígen y la medida de destino\n"
   ]
  },
  {
   "cell_type": "code",
   "execution_count": 28,
   "metadata": {},
   "outputs": [],
   "source": [
    "def convertir_grados (valor,origen,destino):\n",
    "    if origen == 'celsius':\n",
    "        if destino == 'celsius':\n",
    "            valor_destino = valor\n",
    "        elif destino == 'farenheit':\n",
    "            valor_destino = (valor * 9/5) + 32\n",
    "        elif destino ==  'kelvin':\n",
    "            valor_destino = valor + 273.15\n",
    "        else:\n",
    "            print(\"Ingrese un destino correcto\")\n",
    "    \n",
    "    elif origen ==  'farenheit':\n",
    "        if destino == 'celsius':\n",
    "            valor_destino = (valor-32)*5/9\n",
    "        elif destino == 'farenheit':\n",
    "            valor_destino = valor\n",
    "        elif destino ==  'kelvin':\n",
    "            valor_destino = ((valor-32)*5/9) + 273.15\n",
    "        else:\n",
    "            print(\"Ingrese un destino correcto\")\n",
    "    \n",
    "    elif origen == 'kelvin':\n",
    "        if destino == 'celsius':\n",
    "            valor_destino = valor - 273.15\n",
    "        elif destino == 'farenheit':\n",
    "            valor_destino = ((valor - 273.15)*9/5) + 32\n",
    "        elif destino ==  'kelvin':\n",
    "            valor_destino = valor\n",
    "        else:\n",
    "            print(\"Ingrese un destino correcto\")\n",
    "\n",
    "    else:\n",
    "        print('Ingrese un origen correcto')\n",
    "\n",
    "    return valor_destino\n"
   ]
  },
  {
   "cell_type": "code",
   "execution_count": 25,
   "metadata": {},
   "outputs": [
    {
     "name": "stdout",
     "output_type": "stream",
     "text": [
      "1 grado celsius convertido a celsius es igual a:   1\n",
      "1 grado celsius convertido a farenheit es igual a:   33.8\n",
      "1 grado celsius convertido a kelvin es igual a:   274.15\n",
      "1 grado farenheit convertido a celsius es igual a:   -17.22222222222222\n",
      "1 grado farenheit convertido a farenheit es igual a:   1\n",
      "1 grado farenheit convertido a kelvin es igual a:   255.92777777777775\n",
      "1 grado kelvin convertido a celsius es igual a:   -272.15\n",
      "1 grado kelvin convertido a farenheit es igual a:   -457.87\n",
      "1 grado kelvin convertido a kelvin es igual a:   1\n"
     ]
    }
   ],
   "source": [
    "print('1 grado celsius convertido a celsius es igual a:  ', convertir_grados (1,'celsius','celsius'))\n",
    "print('1 grado celsius convertido a farenheit es igual a:  ', convertir_grados (1,'celsius','farenheit'))\n",
    "print('1 grado celsius convertido a kelvin es igual a:  ', convertir_grados (1,'celsius','kelvin'))\n",
    "\n",
    "print('1 grado farenheit convertido a celsius es igual a:  ', convertir_grados (1,'farenheit','celsius'))\n",
    "print('1 grado farenheit convertido a farenheit es igual a:  ', convertir_grados (1,'farenheit','farenheit'))\n",
    "print('1 grado farenheit convertido a kelvin es igual a:  ', convertir_grados (1,'farenheit','kelvin'))\n",
    "\n",
    "print('1 grado kelvin convertido a celsius es igual a:  ', convertir_grados (1,'kelvin','celsius'))\n",
    "print('1 grado kelvin convertido a farenheit es igual a:  ', convertir_grados (1,'kelvin','farenheit'))\n",
    "print('1 grado kelvin convertido a kelvin es igual a:  ', convertir_grados (1,'kelvin','kelvin'))"
   ]
  },
  {
   "attachments": {},
   "cell_type": "markdown",
   "metadata": {},
   "source": [
    "5) Iterando una lista con los tres valores posibles de temperatura que recibe la función del punto 5, hacer un print para cada combinación de los mismos:"
   ]
  },
  {
   "cell_type": "code",
   "execution_count": 30,
   "metadata": {},
   "outputs": [
    {
     "name": "stdout",
     "output_type": "stream",
     "text": [
      "1 grado celsius convertido a celsius es igual a  1\n",
      "1 grado celsius convertido a farenheit es igual a  33.8\n",
      "1 grado celsius convertido a kelvin es igual a  274.15\n",
      "1 grado farenheit convertido a celsius es igual a  -17.22222222222222\n",
      "1 grado farenheit convertido a farenheit es igual a  1\n",
      "1 grado farenheit convertido a kelvin es igual a  255.92777777777775\n",
      "1 grado kelvin convertido a celsius es igual a  -272.15\n",
      "1 grado kelvin convertido a farenheit es igual a  -457.87\n",
      "1 grado kelvin convertido a kelvin es igual a  1\n"
     ]
    }
   ],
   "source": [
    "temp = ['celsius', 'farenheit', 'kelvin']\n",
    "for i in range(0,3):\n",
    "    for j in range(0,3):\n",
    "        print(f'1 grado {temp[i]} convertido a {temp[j]} es igual a  {convertir_grados (1,temp[i],temp[j])}')\n"
   ]
  },
  {
   "attachments": {},
   "cell_type": "markdown",
   "metadata": {},
   "source": [
    "6) Armar una función que devuelva el factorial de un número. Tener en cuenta que el usuario puede equivocarse y enviar de parámetro un número no entero o negativo"
   ]
  },
  {
   "cell_type": "code",
   "execution_count": 47,
   "metadata": {},
   "outputs": [],
   "source": [
    "\n",
    "\n",
    "\n",
    "        \n",
    "def factorial(numero):\n",
    "        if type(numero) != int:\n",
    "            return 'Ingrese un numero entero'\n",
    "        if numero < 1:\n",
    "            return 'Ingrese un numero mayor a cero'\n",
    "        if numero > 1:\n",
    "            numero = numero * factorial(numero - 1)\n",
    "        return numero"
   ]
  },
  {
   "cell_type": "code",
   "execution_count": 53,
   "metadata": {},
   "outputs": [
    {
     "name": "stdout",
     "output_type": "stream",
     "text": [
      "Factorial de 5 es 120\n",
      "Factorial de - 5 es Ingrese un numero mayor a cero\n",
      "Factorial de 2.5 es Ingrese un numero entero\n"
     ]
    }
   ],
   "source": [
    "print(f'Factorial de 5 es {factorial(5)}')\n",
    "print(f'Factorial de - 5 es {factorial(-5)}')\n",
    "print(f'Factorial de 2.5 es {factorial(2.5)}')\n"
   ]
  }
 ],
 "metadata": {
  "interpreter": {
   "hash": "c85384e4cb51c8b72350f3a8712cc8351fdc3955e32a27f9b60c6242ab125f01"
  },
  "kernelspec": {
   "display_name": "Python 3 (ipykernel)",
   "language": "python",
   "name": "python3"
  },
  "language_info": {
   "codemirror_mode": {
    "name": "ipython",
    "version": 3
   },
   "file_extension": ".py",
   "mimetype": "text/x-python",
   "name": "python",
   "nbconvert_exporter": "python",
   "pygments_lexer": "ipython3",
   "version": "3.11.7"
  }
 },
 "nbformat": 4,
 "nbformat_minor": 4
}
