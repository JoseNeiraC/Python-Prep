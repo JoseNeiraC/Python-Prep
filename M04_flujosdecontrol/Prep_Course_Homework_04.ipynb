{
 "cells": [
  {
   "attachments": {},
   "cell_type": "markdown",
   "metadata": {},
   "source": [
    "## Flujos de Control"
   ]
  },
  {
   "attachments": {},
   "cell_type": "markdown",
   "metadata": {},
   "source": [
    "1) Crear una variable que contenga un elemento del conjunto de números enteros y luego imprimir por pantalla si es mayor o menor a cero"
   ]
  },
  {
   "cell_type": "code",
   "execution_count": 24,
   "metadata": {},
   "outputs": [
    {
     "name": "stdout",
     "output_type": "stream",
     "text": [
      "a es mayor a 0\n"
     ]
    }
   ],
   "source": [
    "a = 4\n",
    "if (a > 0):\n",
    "    print('a es mayor a 0')\n",
    "elif (a < 0):\n",
    "    print('a es menor a 0')\n",
    "\n"
   ]
  },
  {
   "attachments": {},
   "cell_type": "markdown",
   "metadata": {},
   "source": [
    "2) Crear dos variables y un condicional que informe si son del mismo tipo de dato"
   ]
  },
  {
   "cell_type": "code",
   "execution_count": 25,
   "metadata": {},
   "outputs": [
    {
     "name": "stdout",
     "output_type": "stream",
     "text": [
      "a y b son diferentes tipos de datos\n"
     ]
    }
   ],
   "source": [
    "a = 2\n",
    "b = 'dos'\n",
    "if type(a) == type(b):\n",
    "    print('a y b son del mismo tipo de dato')\n",
    "else:\n",
    "    print('a y b son diferentes tipos de datos')"
   ]
  },
  {
   "attachments": {},
   "cell_type": "markdown",
   "metadata": {},
   "source": [
    "3) Para los valores enteros del 1 al 20, imprimir por pantalla si es par o impar"
   ]
  },
  {
   "cell_type": "code",
   "execution_count": 26,
   "metadata": {},
   "outputs": [
    {
     "name": "stdout",
     "output_type": "stream",
     "text": [
      "el numero 1 es impar\n",
      "el numero 2 es par\n",
      "el numero 3 es impar\n",
      "el numero 4 es par\n",
      "el numero 5 es impar\n",
      "el numero 6 es par\n",
      "el numero 7 es impar\n",
      "el numero 8 es par\n",
      "el numero 9 es impar\n",
      "el numero 10 es par\n",
      "el numero 11 es impar\n",
      "el numero 12 es par\n",
      "el numero 13 es impar\n",
      "el numero 14 es par\n",
      "el numero 15 es impar\n",
      "el numero 16 es par\n",
      "el numero 17 es impar\n",
      "el numero 18 es par\n",
      "el numero 19 es impar\n",
      "el numero 20 es par\n"
     ]
    }
   ],
   "source": [
    "for i in range (1,21):\n",
    "    if i % 2 == 0:\n",
    "        print(f'el numero {i} es par')\n",
    "    else:\n",
    "        print(f'el numero {i} es impar')"
   ]
  },
  {
   "attachments": {},
   "cell_type": "markdown",
   "metadata": {},
   "source": [
    "4) En un ciclo for mostrar para los valores entre 0 y 5 el resultado de elevarlo a la potencia igual a 3"
   ]
  },
  {
   "cell_type": "code",
   "execution_count": 27,
   "metadata": {},
   "outputs": [
    {
     "name": "stdout",
     "output_type": "stream",
     "text": [
      "El valor de 0 elevado a la potencia 3 es 0\n",
      "El valor de 1 elevado a la potencia 3 es 1\n",
      "El valor de 2 elevado a la potencia 3 es 8\n",
      "El valor de 3 elevado a la potencia 3 es 27\n",
      "El valor de 4 elevado a la potencia 3 es 64\n",
      "El valor de 5 elevado a la potencia 3 es 125\n"
     ]
    }
   ],
   "source": [
    "\n",
    "for i in range (6):\n",
    "    \n",
    "    print(f'El valor de {i} elevado a la potencia 3 es {i**3}')"
   ]
  },
  {
   "attachments": {},
   "cell_type": "markdown",
   "metadata": {},
   "source": [
    "5) Crear una variable que contenga un número entero y realizar un ciclo for la misma cantidad de ciclos"
   ]
  },
  {
   "cell_type": "code",
   "execution_count": 28,
   "metadata": {},
   "outputs": [
    {
     "name": "stdout",
     "output_type": "stream",
     "text": [
      "4 ciclos\n"
     ]
    }
   ],
   "source": [
    "x = 5\n",
    "for i in range (1,x):\n",
    "        pass\n",
    "print(f'{i} ciclos')"
   ]
  },
  {
   "attachments": {},
   "cell_type": "markdown",
   "metadata": {},
   "source": [
    "6) Utilizar un ciclo while para realizar el factorial de un número guardado en una variable, sólo si la variable contiene un número entero mayor a 0"
   ]
  },
  {
   "cell_type": "code",
   "execution_count": 29,
   "metadata": {},
   "outputs": [
    {
     "name": "stdout",
     "output_type": "stream",
     "text": [
      "El Factorial de 5 es 120\n"
     ]
    }
   ],
   "source": [
    "x = 5\n",
    "y = x\n",
    "if (type(x) == int):\n",
    "    if x > 0:\n",
    "        fact = x\n",
    "        while x > 2:\n",
    "            x = x - 1\n",
    "            fact = fact * x\n",
    "        print(f'El Factorial de {y} es {fact}')\n",
    "    else:\n",
    "        print(f'{x} no es mayor a 0')\n",
    "else: \n",
    "    print(f'{x} no es un numero entero')\n",
    "        "
   ]
  },
  {
   "attachments": {},
   "cell_type": "markdown",
   "metadata": {},
   "source": [
    "7) Crear un ciclo for dentro de un ciclo while"
   ]
  },
  {
   "cell_type": "code",
   "execution_count": 30,
   "metadata": {},
   "outputs": [
    {
     "name": "stdout",
     "output_type": "stream",
     "text": [
      "Conteo ascendente hasta 3\n",
      "valor de i para WHILE es : 0\n",
      "valor de x para WHILE es : 3\n",
      "valor de i para FOR es:  1\n",
      "valor de x para FOR es:  3\n",
      ">> Conteo ascendente va por:  1\n",
      "valor de i para FOR es:  2\n",
      "valor de x para FOR es:  3\n",
      ">> Conteo ascendente va por:  2\n",
      "valor de i para FOR es:  3\n",
      "valor de x para FOR es:  3\n",
      ">> Conteo ascendente va por:  3\n",
      "Fin de conteo ascendente\n"
     ]
    }
   ],
   "source": [
    "x = 3\n",
    "i = 0\n",
    "if type(x) == int:\n",
    "    print('Conteo ascendente hasta',x)\n",
    "    while i < x:\n",
    "        print('valor de i para WHILE es :', i)\n",
    "        print('valor de x para WHILE es :', x)\n",
    "        for i in range (1, x+1):\n",
    "            print('valor de i para FOR es: ',i)\n",
    "            print('valor de x para FOR es: ',x)\n",
    "            print('>> Conteo ascendente va por: ', i)\n",
    "    print('Fin de conteo ascendente')\n",
    "else:\n",
    "    print('Introduzca un numero entero')\n",
    "\n",
    "\n"
   ]
  },
  {
   "attachments": {},
   "cell_type": "markdown",
   "metadata": {},
   "source": [
    "8) Crear un ciclo while dentro de un ciclo for"
   ]
  },
  {
   "cell_type": "code",
   "execution_count": 31,
   "metadata": {},
   "outputs": [
    {
     "name": "stdout",
     "output_type": "stream",
     "text": [
      "Conteo de ciclox FOR y ciclos While hasta  3\n",
      "> > > Ciclo FOR #: 1\n",
      "Ciclo While: 1\n",
      "Ciclo While: 2\n",
      "Ciclo While: 3\n",
      "> > > Ciclo FOR #: 2\n",
      "Ciclo While: 1\n",
      "Ciclo While: 2\n",
      "Ciclo While: 3\n",
      "> > > Ciclo FOR #: 3\n",
      "Ciclo While: 1\n",
      "Ciclo While: 2\n",
      "Ciclo While: 3\n"
     ]
    }
   ],
   "source": [
    "x = 3\n",
    "y = 1\n",
    "print('Conteo de ciclox FOR y ciclos While hasta ',x)\n",
    "for i in range(1,x+1):\n",
    "    print(f'> > > Ciclo FOR #: {i}' )\n",
    "    while (y < x+1):\n",
    "        print(f'Ciclo While: {y}' )\n",
    "        y = y+1\n",
    "    y = 1\n",
    "\n",
    "\n",
    "\n",
    "\n",
    "              \n"
   ]
  },
  {
   "attachments": {},
   "cell_type": "markdown",
   "metadata": {},
   "source": [
    "9) Imprimir los números primos existentes entre 0 y 30"
   ]
  },
  {
   "cell_type": "code",
   "execution_count": 32,
   "metadata": {},
   "outputs": [
    {
     "name": "stdout",
     "output_type": "stream",
     "text": [
      "2  es numero primo\n",
      "3  es numero primo\n",
      "5  es numero primo\n",
      "7  es numero primo\n",
      "11  es numero primo\n",
      "13  es numero primo\n",
      "17  es numero primo\n",
      "19  es numero primo\n",
      "23  es numero primo\n",
      "29  es numero primo\n"
     ]
    }
   ],
   "source": [
    "Max = 30\n",
    "n = 2\n",
    "primo = True\n",
    "while n < Max:\n",
    "    for div in range (2,n):\n",
    "        if n % div == 0:\n",
    "            primo = False\n",
    "    if primo == True:\n",
    "         print(n,' es numero primo')\n",
    "    else:\n",
    "        primo = True\n",
    "    n += 1\n",
    "    \n",
    "# Tener presente la logica de esta programacion para ejercicios proximos\n"
   ]
  },
  {
   "attachments": {},
   "cell_type": "markdown",
   "metadata": {},
   "source": [
    "10) ¿Se puede mejorar el proceso del punto 9? Utilizar las sentencias break y/ó continue para tal fin"
   ]
  },
  {
   "cell_type": "code",
   "execution_count": 33,
   "metadata": {},
   "outputs": [
    {
     "name": "stdout",
     "output_type": "stream",
     "text": [
      "2  es numero primo\n",
      "3  es numero primo\n",
      "5  es numero primo\n",
      "7  es numero primo\n",
      "11  es numero primo\n",
      "13  es numero primo\n",
      "17  es numero primo\n",
      "19  es numero primo\n",
      "23  es numero primo\n",
      "29  es numero primo\n"
     ]
    }
   ],
   "source": [
    "Max = 30\n",
    "n = 2\n",
    "primo = True\n",
    "while n < Max:\n",
    "    for div in range (2,n):\n",
    "        if n % div == 0:\n",
    "            primo = False\n",
    "            break\n",
    "    if primo == True:\n",
    "         print(n,' es numero primo')\n",
    "    else:\n",
    "        primo = True\n",
    "    n += 1\n",
    "    "
   ]
  },
  {
   "attachments": {},
   "cell_type": "markdown",
   "metadata": {},
   "source": [
    "11) En los puntos 9 y 10, se diseño un código que encuentra números primos y además se lo optimizó. ¿Es posible saber en qué medida se optimizó?"
   ]
  },
  {
   "cell_type": "code",
   "execution_count": 34,
   "metadata": {},
   "outputs": [
    {
     "name": "stdout",
     "output_type": "stream",
     "text": [
      "2  es numero primo\n",
      "3  es numero primo\n",
      "5  es numero primo\n",
      "7  es numero primo\n",
      "11  es numero primo\n",
      "13  es numero primo\n",
      "17  es numero primo\n",
      "19  es numero primo\n",
      "23  es numero primo\n",
      "29  es numero primo\n",
      "Ciclos sin break 378\n"
     ]
    }
   ],
   "source": [
    "Max = 30\n",
    "n = 2\n",
    "primo = True\n",
    "ciclos_sin_break = 0\n",
    "while n < Max:\n",
    "    for div in range (2,n):\n",
    "        ciclos_sin_break += 1\n",
    "        if n % div == 0:\n",
    "            primo = False\n",
    "    if primo == True:\n",
    "         print(n,' es numero primo')\n",
    "    else:\n",
    "        primo = True\n",
    "    n += 1\n",
    "print('Ciclos sin break',ciclos_sin_break)"
   ]
  },
  {
   "cell_type": "markdown",
   "metadata": {},
   "source": [
    "Ciclos con BREAK"
   ]
  },
  {
   "cell_type": "code",
   "execution_count": 35,
   "metadata": {},
   "outputs": [
    {
     "name": "stdout",
     "output_type": "stream",
     "text": [
      "2  es numero primo\n",
      "3  es numero primo\n",
      "5  es numero primo\n",
      "7  es numero primo\n",
      "11  es numero primo\n",
      "13  es numero primo\n",
      "17  es numero primo\n",
      "19  es numero primo\n",
      "23  es numero primo\n",
      "29  es numero primo\n",
      "Ciclos con break 134\n",
      "Porcentaje de eficiencia conseguida:  35.44973544973545\n"
     ]
    }
   ],
   "source": [
    "Max = 30\n",
    "n = 2\n",
    "primo = True\n",
    "ciclos_con_break = 0\n",
    "while n < Max:\n",
    "    for div in range (2,n):\n",
    "        ciclos_con_break += 1\n",
    "        if n % div == 0:\n",
    "            primo = False\n",
    "            break\n",
    "    if primo == True:\n",
    "         print(n,' es numero primo')\n",
    "    else:\n",
    "        primo = True\n",
    "    n += 1\n",
    "d = (ciclos_con_break * 100) / ciclos_sin_break\n",
    "print('Ciclos con break',ciclos_con_break)\n",
    "print('Porcentaje de eficiencia conseguida: ',d)"
   ]
  },
  {
   "attachments": {},
   "cell_type": "markdown",
   "metadata": {},
   "source": [
    "12) Aplicando continue, armar un ciclo while que solo imprima los valores divisibles por 12, dentro del rango de números de 100 a 300"
   ]
  },
  {
   "cell_type": "code",
   "execution_count": 36,
   "metadata": {},
   "outputs": [
    {
     "name": "stdout",
     "output_type": "stream",
     "text": [
      "108 es un valor divisible para 12\n",
      "120 es un valor divisible para 12\n",
      "132 es un valor divisible para 12\n",
      "144 es un valor divisible para 12\n",
      "156 es un valor divisible para 12\n",
      "168 es un valor divisible para 12\n",
      "180 es un valor divisible para 12\n",
      "192 es un valor divisible para 12\n",
      "204 es un valor divisible para 12\n",
      "216 es un valor divisible para 12\n",
      "228 es un valor divisible para 12\n",
      "240 es un valor divisible para 12\n",
      "252 es un valor divisible para 12\n",
      "264 es un valor divisible para 12\n",
      "276 es un valor divisible para 12\n",
      "288 es un valor divisible para 12\n",
      "300 es un valor divisible para 12\n"
     ]
    }
   ],
   "source": [
    "div = 12\n",
    "x = 99\n",
    "while x < 300:\n",
    "    x+=1\n",
    "    if x % div != 0:\n",
    "        continue\n",
    "    else:\n",
    "        print(f'{x} es un valor divisible para 12')\n",
    "        \n"
   ]
  },
  {
   "attachments": {},
   "cell_type": "markdown",
   "metadata": {},
   "source": [
    "13) Utilizar la función **input()** que permite hacer ingresos por teclado, para encontrar números primos y dar la opción al usario de buscar el siguiente"
   ]
  },
  {
   "cell_type": "code",
   "execution_count": 37,
   "metadata": {},
   "outputs": [
    {
     "name": "stdout",
     "output_type": "stream",
     "text": [
      "2  es numero primo\n",
      "Desea imprimir otro numero primo? digite >  1\n",
      "3  es numero primo\n",
      "Desea imprimir otro numero primo? digite >  1\n",
      "5  es numero primo\n",
      "Desea imprimir otro numero primo? digite >  1\n",
      "Fin del proceso\n"
     ]
    }
   ],
   "source": [
    "Max = 30\n",
    "n = 2\n",
    "sigue = 1\n",
    "primo = True\n",
    "while sigue == 1:\n",
    "    for div in range (2,n):\n",
    "        if n % div == 0:\n",
    "            primo = False\n",
    "    if primo == True:\n",
    "         print(n,' es numero primo')\n",
    "         print('Desea imprimir otro numero primo? digite >  1')\n",
    "         if (input() != '1'):\n",
    "            print('Fin del proceso')\n",
    "            break\n",
    "    else:\n",
    "        primo = True\n",
    "    n += 1"
   ]
  },
  {
   "attachments": {},
   "cell_type": "markdown",
   "metadata": {},
   "source": [
    "14) Crear un ciclo while que encuentre dentro del rango de 100 a 300 el primer número divisible por 3 y además múltiplo de 6"
   ]
  },
  {
   "cell_type": "code",
   "execution_count": 38,
   "metadata": {},
   "outputs": [
    {
     "name": "stdout",
     "output_type": "stream",
     "text": [
      "102 es un valor divisible para 3\n",
      "102 es un valor multiplo de 6\n"
     ]
    }
   ],
   "source": [
    "div = 3\n",
    "mult = 6\n",
    "x = 99\n",
    "while x < 300:\n",
    "    x+=1\n",
    "    if x % div != 0:\n",
    "        continue\n",
    "    print(f'{x} es un valor divisible para 3')\n",
    "    if x % mult == 0:\n",
    "        print(f'{x} es un valor multiplo de 6')\n",
    "        break\n",
    "    \n",
    "        \n",
    "\n",
    "        "
   ]
  },
  {
   "cell_type": "markdown",
   "metadata": {},
   "source": []
  }
 ],
 "metadata": {
  "interpreter": {
   "hash": "c85384e4cb51c8b72350f3a8712cc8351fdc3955e32a27f9b60c6242ab125f01"
  },
  "kernelspec": {
   "display_name": "Python 3 (ipykernel)",
   "language": "python",
   "name": "python3"
  },
  "language_info": {
   "codemirror_mode": {
    "name": "ipython",
    "version": 3
   },
   "file_extension": ".py",
   "mimetype": "text/x-python",
   "name": "python",
   "nbconvert_exporter": "python",
   "pygments_lexer": "ipython3",
   "version": "3.11.7"
  }
 },
 "nbformat": 4,
 "nbformat_minor": 4
}
