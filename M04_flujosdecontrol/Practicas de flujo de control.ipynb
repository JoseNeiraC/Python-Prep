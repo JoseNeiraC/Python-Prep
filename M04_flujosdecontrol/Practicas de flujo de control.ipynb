{
 "cells": [
  {
   "cell_type": "code",
   "execution_count": 75,
   "metadata": {},
   "outputs": [
    {
     "name": "stdout",
     "output_type": "stream",
     "text": [
      "a y b son iguales\n"
     ]
    }
   ],
   "source": [
    "# Comparacion entre 2 variables\n",
    "\n",
    "a = 4\n",
    "b = 4\n",
    "\n",
    "if a < b:\n",
    "    print('a es menor que b')\n",
    "\n",
    "elif a > b:\n",
    "    print('a es mayor que b')\n",
    "\n",
    "elif a > 5:\n",
    "    print('a es mayor a 5')\n",
    "\n",
    "else:\n",
    "    print('a y b son iguales')"
   ]
  },
  {
   "cell_type": "code",
   "execution_count": 76,
   "metadata": {},
   "outputs": [
    {
     "name": "stdout",
     "output_type": "stream",
     "text": [
      "Soy menor o igual a 7\n"
     ]
    }
   ],
   "source": [
    "# Comparacion entre variable y valores constantes\n",
    "\n",
    "num = 5\n",
    "if num >= 8:\n",
    "    print('Soy mayor o igual a 8')\n",
    "\n",
    "elif num < 5:\n",
    "    print('Soy menor a 5')\n",
    "\n",
    "elif num <= 7:\n",
    "    print('Soy menor o igual a 7')\n",
    "\n",
    "else:\n",
    "    print('Soy igual a 5')\n",
    "\n"
   ]
  },
  {
   "cell_type": "code",
   "execution_count": 77,
   "metadata": {},
   "outputs": [
    {
     "name": "stdout",
     "output_type": "stream",
     "text": [
      "2\n"
     ]
    }
   ],
   "source": [
    "# Ejemplo suma secuencial manual\n",
    "suma = 0\n",
    "suma += 1\n",
    "suma += 1\n",
    "print(suma)\n"
   ]
  },
  {
   "cell_type": "code",
   "execution_count": 78,
   "metadata": {},
   "outputs": [
    {
     "name": "stdout",
     "output_type": "stream",
     "text": [
      "2\n",
      "3\n",
      "4\n",
      "5\n",
      "6\n"
     ]
    }
   ],
   "source": [
    "# Ejecucion de comando FOR\n",
    "\n",
    "numeros = [1,2,3,4,5]\n",
    "for num in numeros:\n",
    "    suma = num+1\n",
    "    print(suma)"
   ]
  },
  {
   "cell_type": "code",
   "execution_count": 79,
   "metadata": {},
   "outputs": [
    {
     "name": "stdout",
     "output_type": "stream",
     "text": [
      "variable de iteracion  1 . Resultado:  2\n",
      "variable de iteracion  2 . Resultado:  3\n",
      "variable de iteracion  3 . Resultado:  4\n",
      "variable de iteracion  4 . Resultado:  5\n",
      "variable de iteracion  5 . Resultado:  6\n"
     ]
    }
   ],
   "source": [
    "\n",
    "for i in range(1,6):\n",
    "    suma = i+1\n",
    "    print('variable de iteracion ',i,'. Resultado: ',suma)"
   ]
  },
  {
   "cell_type": "code",
   "execution_count": 80,
   "metadata": {},
   "outputs": [
    {
     "name": "stdout",
     "output_type": "stream",
     "text": [
      "Numero 1\n",
      "Numero 2\n",
      "Numero 3\n",
      "Numero 4\n",
      "Numero 5\n"
     ]
    }
   ],
   "source": [
    "# Ejecucion de comando WHILE\n",
    "\n",
    "num = 1\n",
    "while num < 6:\n",
    "    print('Numero',num)\n",
    "    num += 1\n"
   ]
  },
  {
   "cell_type": "code",
   "execution_count": 81,
   "metadata": {},
   "outputs": [
    {
     "ename": "IndentationError",
     "evalue": "expected an indented block after 'while' statement on line 4 (1867345759.py, line 5)",
     "output_type": "error",
     "traceback": [
      "\u001b[1;36m  Cell \u001b[1;32mIn[81], line 5\u001b[1;36m\u001b[0m\n\u001b[1;33m    print('Numero X =',x)\u001b[0m\n\u001b[1;37m    ^\u001b[0m\n\u001b[1;31mIndentationError\u001b[0m\u001b[1;31m:\u001b[0m expected an indented block after 'while' statement on line 4\n"
     ]
    }
   ],
   "source": [
    "# Comando WHILE mal ejecutdo porque condicion nunca sera False\n",
    "\n",
    "x = 1\n",
    "while x>=1:\n",
    "print('Numero X =',x)"
   ]
  },
  {
   "cell_type": "code",
   "execution_count": null,
   "metadata": {},
   "outputs": [
    {
     "name": "stdout",
     "output_type": "stream",
     "text": [
      "p\n",
      "y\n",
      "t\n",
      "h\n",
      "Se encontro la letra o\n"
     ]
    }
   ],
   "source": [
    "# Usos de comando BREAK\n",
    "\n",
    "string = \"python\"\n",
    "for letra in string:\n",
    "    if letra=='o':\n",
    "        print('Se encontro la letra o')\n",
    "        break\n",
    "    print(letra)\n"
   ]
  },
  {
   "cell_type": "code",
   "execution_count": null,
   "metadata": {},
   "outputs": [
    {
     "name": "stdout",
     "output_type": "stream",
     "text": [
      "Inicio de Bucle en 6\n",
      "5\n",
      "4\n",
      "3\n",
      "2\n",
      "1\n",
      "Fin de Bucle\n"
     ]
    }
   ],
   "source": [
    "x = 6\n",
    "print('Inicio de Bucle en 6')\n",
    "while True:\n",
    "    x-=1\n",
    "    print(x)\n",
    "    if x==1:\n",
    "        break\n",
    "print('Fin de Bucle')\n"
   ]
  },
  {
   "cell_type": "code",
   "execution_count": 87,
   "metadata": {},
   "outputs": [
    {
     "name": "stdout",
     "output_type": "stream",
     "text": [
      "p\n",
      "h\n",
      "y\n",
      "t\n",
      "n\n"
     ]
    }
   ],
   "source": [
    "# Uso de comando CONTINUE para excluir comando Print en letra definida\n",
    "\n",
    "string = 'phyton'\n",
    "for letra in string:\n",
    "    if letra == 'o':\n",
    "        continue\n",
    "    print(letra)\n"
   ]
  }
 ],
 "metadata": {
  "kernelspec": {
   "display_name": "Python 3",
   "language": "python",
   "name": "python3"
  },
  "language_info": {
   "codemirror_mode": {
    "name": "ipython",
    "version": 3
   },
   "file_extension": ".py",
   "mimetype": "text/x-python",
   "name": "python",
   "nbconvert_exporter": "python",
   "pygments_lexer": "ipython3",
   "version": "3.11.7"
  }
 },
 "nbformat": 4,
 "nbformat_minor": 2
}
