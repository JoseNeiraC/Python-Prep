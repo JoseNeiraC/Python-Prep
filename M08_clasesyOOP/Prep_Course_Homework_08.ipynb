{
 "cells": [
  {
   "attachments": {},
   "cell_type": "markdown",
   "metadata": {},
   "source": [
    "## Clases y Programación Orientada a Objetos"
   ]
  },
  {
   "attachments": {},
   "cell_type": "markdown",
   "metadata": {},
   "source": [
    "1) Crear la clase vehículo que contenga los atributos:<br>\n",
    "Color<br>\n",
    "Si es moto, auto, camioneta ó camión<br>\n",
    "Cilindrada del motor"
   ]
  },
  {
   "cell_type": "code",
   "execution_count": 2,
   "metadata": {},
   "outputs": [],
   "source": [
    "class Vehiculo:\n",
    "    def __init__(self,color,clase,cilindraje):\n",
    "        self.color = color\n",
    "        self.clase = clase\n",
    "        self.cilindraje = cilindraje\n",
    "\n",
    "        \n"
   ]
  },
  {
   "attachments": {},
   "cell_type": "markdown",
   "metadata": {},
   "source": [
    "2) A la clase Vehiculo creada en el punto 1, agregar los siguientes métodos:<br>\n",
    "Acelerar<br>\n",
    "Frenar<br>\n",
    "Doblar<br>"
   ]
  },
  {
   "cell_type": "code",
   "execution_count": 2,
   "metadata": {},
   "outputs": [],
   "source": [
    "class Vehiculo:\n",
    "    def __init__(self,color,clase,cilindraje):\n",
    "        self.color = color\n",
    "        self.clase = clase\n",
    "        self.cilindraje = cilindraje\n",
    "        self.velocidad = 0\n",
    "        self.direccion = 0\n",
    "        \n",
    "    def Acelerar(self, vel):\n",
    "        self.velocidad += vel\n",
    "\n",
    "    def Frenar(self, vel):\n",
    "        self.velocidad -= vel\n",
    "\n",
    "    def Doblar(self, grados):\n",
    "        self.direccion += grados"
   ]
  },
  {
   "attachments": {},
   "cell_type": "markdown",
   "metadata": {},
   "source": [
    "3) Instanciar 3 objetos de la clase vehículo y ejecutar sus métodos, probar luego el resultado"
   ]
  },
  {
   "cell_type": "code",
   "execution_count": 3,
   "metadata": {},
   "outputs": [],
   "source": [
    "toyota = Vehiculo ('rojo', 'vdu', 3000)\n",
    "chevrolet = Vehiculo ('blanco', 'camioneta', 2400)\n",
    "hyundai = Vehiculo ('azul' ,'auto', 1600)\n"
   ]
  },
  {
   "cell_type": "code",
   "execution_count": 6,
   "metadata": {},
   "outputs": [],
   "source": [
    "toyota.Acelerar(40)\n",
    "\n",
    "chevrolet.Frenar(20)\n",
    "\n",
    "hyundai.Doblar(45)"
   ]
  },
  {
   "cell_type": "code",
   "execution_count": 7,
   "metadata": {},
   "outputs": [
    {
     "data": {
      "text/plain": [
       "80"
      ]
     },
     "execution_count": 7,
     "metadata": {},
     "output_type": "execute_result"
    }
   ],
   "source": [
    "toyota.velocidad"
   ]
  },
  {
   "attachments": {},
   "cell_type": "markdown",
   "metadata": {},
   "source": [
    "4) Agregar a la clase Vehiculo, un método que muestre su estado, es decir, a que velocidad se encuentra y su dirección. Y otro método que muestre color, tipo y cilindrada"
   ]
  },
  {
   "cell_type": "code",
   "execution_count": 39,
   "metadata": {},
   "outputs": [],
   "source": [
    "class Vehiculo:\n",
    "    def __init__(self,color,clase,cilindraje):\n",
    "        self.color = color\n",
    "        self.clase = clase\n",
    "        self.cilindraje = cilindraje\n",
    "        self.velocidad = 0\n",
    "        self.direccion = 0\n",
    "        \n",
    "    def Acelerar(self, vel):\n",
    "        self.velocidad += vel\n",
    "\n",
    "    def Frenar(self, vel):\n",
    "        self.velocidad -= vel\n",
    "\n",
    "    def Doblar(self, grados):\n",
    "        self.direccion += grados\n",
    "\n",
    "    def Estado(self):\n",
    "        print( 'Velocidad :', self.velocidad, 'Direccion :', self.direccion)\n",
    "\n",
    "    def Detalles(self):\n",
    "        print(f'Soy un vehiculo color {self.color} , tipo  {self.clase} y con {self.cilindraje} de cilindraje' )\n"
   ]
  },
  {
   "cell_type": "code",
   "execution_count": 41,
   "metadata": {},
   "outputs": [
    {
     "name": "stdout",
     "output_type": "stream",
     "text": [
      "Velocidad : 0 Direccion : 0\n",
      "Velocidad : 50 Direccion : 90\n",
      "Soy un vehiculo color rojo , tipo  vdu y con 3000 de cilindraje\n"
     ]
    }
   ],
   "source": [
    "toyota = Vehiculo ('rojo', 'vdu', 3000)\n",
    "                   \n",
    "toyota.Estado()\n",
    "toyota.Acelerar(50)\n",
    "toyota.Doblar (90)\n",
    "toyota.Estado()\n",
    "\n",
    "toyota.Detalles()"
   ]
  },
  {
   "attachments": {},
   "cell_type": "markdown",
   "metadata": {},
   "source": [
    "5) Crear una clase que permita utilizar las funciones creadas en la práctica del módulo 7<br>\n",
    "Verificar Primo<br>\n",
    "Valor modal<br>\n",
    "Conversión grados<br>\n",
    "Factorial<br>"
   ]
  },
  {
   "cell_type": "code",
   "execution_count": 93,
   "metadata": {},
   "outputs": [],
   "source": [
    "class Funciones:\n",
    "    def __init__(self) -> None:\n",
    "        pass\n",
    "    \n",
    "    def verificar_Primo (self, numero): # Funcion Primo\n",
    "        primo = True\n",
    "        for div in range (2,numero):\n",
    "            if numero % div == 0:\n",
    "                primo = False\n",
    "                break\n",
    "        return primo\n",
    "\n",
    "\n",
    "    def valor_Modal (self, lista):\n",
    "        lista_unicos = []\n",
    "        lista_repeticiones = []\n",
    "        if len(lista) == 0:\n",
    "            return None\n",
    "        for elemento in lista:\n",
    "            if elemento in lista_unicos:\n",
    "                i = lista_unicos.index(elemento)\n",
    "                lista_repeticiones[i] += 1\n",
    "            else:\n",
    "                lista_unicos.append(elemento)\n",
    "                lista_repeticiones.append(1)\n",
    "        moda = lista_unicos[0]\n",
    "        maximo = lista_repeticiones[0]\n",
    "        for i, elemento in enumerate(lista_unicos):\n",
    "            if lista_repeticiones[i] > maximo:\n",
    "                moda = lista_unicos[i]\n",
    "                maximo = lista_repeticiones[i]\n",
    "        return moda, maximo\n",
    "        \n",
    "\n",
    "    def conversion_grados (self, valor, origen, destino):\n",
    "        if origen == 'celsius':\n",
    "            if destino == 'celsius':\n",
    "                valor_destino = valor\n",
    "            elif destino == 'farenheit':\n",
    "                valor_destino = (valor * 9/5) + 32\n",
    "            elif destino ==  'kelvin':\n",
    "                valor_destino = valor + 273.15\n",
    "            else:\n",
    "                print(\"Ingrese un destino correcto\")\n",
    "    \n",
    "        elif origen ==  'farenheit':\n",
    "            if destino == 'celsius':\n",
    "                valor_destino = (valor-32)*5/9\n",
    "            elif destino == 'farenheit':\n",
    "                valor_destino = valor\n",
    "            elif destino ==  'kelvin':\n",
    "                valor_destino = ((valor-32)*5/9) + 273.15\n",
    "            else:\n",
    "                print(\"Ingrese un destino correcto\")\n",
    "    \n",
    "        elif origen == 'kelvin':\n",
    "            if destino == 'celsius':\n",
    "                valor_destino = valor - 273.15\n",
    "            elif destino == 'farenheit':\n",
    "                valor_destino = ((valor - 273.15)*9/5) + 32\n",
    "            elif destino ==  'kelvin':\n",
    "                valor_destino = valor\n",
    "            else:\n",
    "                print(\"Ingrese un destino correcto\")\n",
    "        else:\n",
    "            print('Ingrese un origen correcto')\n",
    "        return valor_destino\n",
    "\n",
    "    def factorial (self, numero):\n",
    "        if type(numero) != int:\n",
    "            return 'Ingrese un numero entero'\n",
    "        if numero < 1:\n",
    "            return 'Ingrese un numero mayor a cero'\n",
    "        if numero > 1:\n",
    "            numero = numero * self.factorial(numero - 1)\n",
    "        return numero\n",
    "\n"
   ]
  },
  {
   "cell_type": "code",
   "execution_count": 62,
   "metadata": {},
   "outputs": [],
   "source": [
    "h = Funciones()"
   ]
  },
  {
   "attachments": {},
   "cell_type": "markdown",
   "metadata": {},
   "source": [
    "6) Probar las funciones incorporadas en la clase del punto 5"
   ]
  },
  {
   "cell_type": "code",
   "execution_count": 63,
   "metadata": {},
   "outputs": [
    {
     "name": "stdout",
     "output_type": "stream",
     "text": [
      "True\n",
      "(4, 4)\n",
      "278.15\n",
      "120\n"
     ]
    }
   ],
   "source": [
    "print(h.verificar_Primo(7))\n",
    "lista = [1,2,2,3,4,4,4,4,5,6,7]\n",
    "print(h.valor_Modal(lista))\n",
    "print(h.conversion_grados(5,'celsius','kelvin'))\n",
    "print(h.factorial(5))"
   ]
  },
  {
   "attachments": {},
   "cell_type": "markdown",
   "metadata": {},
   "source": [
    "7) Es necesario que la clase creada en el punto 5 contenga una lista, sobre la cual se apliquen las funciones incorporadas"
   ]
  },
  {
   "cell_type": "code",
   "execution_count": 95,
   "metadata": {},
   "outputs": [],
   "source": [
    "class Funciones:\n",
    "    def __init__(self, lista_numeros):\n",
    "        self.lista = lista_numeros\n",
    "    \n",
    "    def verificar_Primo (self):    # Pendiente resolver Fault\n",
    "        for i in self.lista:\n",
    "            if (self.__verificar_primo(i)):\n",
    "                print('El elemento', i, 'SI es un numero primo')\n",
    "            else:\n",
    "                print('El elemento', i, 'NO es un numero primo')        \n",
    "        # Funcion Primo anterior ara un solo numero\n",
    "        # primo = True\n",
    "        # for div in range (self.lista):\n",
    "        #     if self.lista % div == 0:\n",
    "        #         primo = False\n",
    "        #         break\n",
    "        # return primo\n",
    "\n",
    "\n",
    "    def valor_Modal (self, lista):\n",
    "        lista_unicos = []\n",
    "        lista_repeticiones = []\n",
    "        if len(lista) == 0:\n",
    "            return None\n",
    "        for elemento in lista:\n",
    "            if elemento in lista_unicos:\n",
    "                i = lista_unicos.index(elemento)\n",
    "                lista_repeticiones[i] += 1\n",
    "            else:\n",
    "                lista_unicos.append(elemento)\n",
    "                lista_repeticiones.append(1)\n",
    "        moda = lista_unicos[0]\n",
    "        maximo = lista_repeticiones[0]\n",
    "        for i, elemento in enumerate(lista_unicos):\n",
    "            if lista_repeticiones[i] > maximo:\n",
    "                moda = lista_unicos[i]\n",
    "                maximo = lista_repeticiones[i]\n",
    "        return moda, maximo\n",
    "        \n",
    "\n",
    "    def conversion_grados (self, valor, origen, destino):\n",
    "        if origen == 'celsius':\n",
    "            if destino == 'celsius':\n",
    "                valor_destino = valor\n",
    "            elif destino == 'farenheit':\n",
    "                valor_destino = (valor * 9/5) + 32\n",
    "            elif destino ==  'kelvin':\n",
    "                valor_destino = valor + 273.15\n",
    "            else:\n",
    "                print(\"Ingrese un destino correcto\")\n",
    "    \n",
    "        elif origen ==  'farenheit':\n",
    "            if destino == 'celsius':\n",
    "                valor_destino = (valor-32)*5/9\n",
    "            elif destino == 'farenheit':\n",
    "                valor_destino = valor\n",
    "            elif destino ==  'kelvin':\n",
    "                valor_destino = ((valor-32)*5/9) + 273.15\n",
    "            else:\n",
    "                print(\"Ingrese un destino correcto\")\n",
    "    \n",
    "        elif origen == 'kelvin':\n",
    "            if destino == 'celsius':\n",
    "                valor_destino = valor - 273.15\n",
    "            elif destino == 'farenheit':\n",
    "                valor_destino = ((valor - 273.15)*9/5) + 32\n",
    "            elif destino ==  'kelvin':\n",
    "                valor_destino = valor\n",
    "            else:\n",
    "                print(\"Ingrese un destino correcto\")\n",
    "        else:\n",
    "            print('Ingrese un origen correcto')\n",
    "        return valor_destino\n",
    "\n",
    "    def factorial (self, numero):\n",
    "        if type(numero) != int:\n",
    "            return 'Ingrese un numero entero'\n",
    "        if numero < 1:\n",
    "            return 'Ingrese un numero mayor a cero'\n",
    "        if numero > 1:\n",
    "            numero = numero * self.factorial(numero - 1)\n",
    "        return numero\n",
    "\n"
   ]
  },
  {
   "cell_type": "code",
   "execution_count": 96,
   "metadata": {},
   "outputs": [],
   "source": [
    "h = Funciones([1,2,2,2,3,4,5,6,7,7,8,9,10])"
   ]
  },
  {
   "cell_type": "code",
   "execution_count": 97,
   "metadata": {},
   "outputs": [
    {
     "ename": "AttributeError",
     "evalue": "'Funciones' object has no attribute '_Funciones__verificar_primo'",
     "output_type": "error",
     "traceback": [
      "\u001b[1;31m---------------------------------------------------------------------------\u001b[0m",
      "\u001b[1;31mAttributeError\u001b[0m                            Traceback (most recent call last)",
      "Cell \u001b[1;32mIn[97], line 1\u001b[0m\n\u001b[1;32m----> 1\u001b[0m \u001b[43mh\u001b[49m\u001b[38;5;241;43m.\u001b[39;49m\u001b[43mverificar_Primo\u001b[49m\u001b[43m(\u001b[49m\u001b[43m)\u001b[49m\n",
      "Cell \u001b[1;32mIn[95], line 7\u001b[0m, in \u001b[0;36mFunciones.verificar_Primo\u001b[1;34m(self)\u001b[0m\n\u001b[0;32m      5\u001b[0m \u001b[38;5;28;01mdef\u001b[39;00m \u001b[38;5;21mverificar_Primo\u001b[39m (\u001b[38;5;28mself\u001b[39m): \n\u001b[0;32m      6\u001b[0m     \u001b[38;5;28;01mfor\u001b[39;00m i \u001b[38;5;129;01min\u001b[39;00m \u001b[38;5;28mself\u001b[39m\u001b[38;5;241m.\u001b[39mlista:\n\u001b[1;32m----> 7\u001b[0m         \u001b[38;5;28;01mif\u001b[39;00m (\u001b[38;5;28;43mself\u001b[39;49m\u001b[38;5;241;43m.\u001b[39;49m\u001b[43m__verificar_primo\u001b[49m(i)):\n\u001b[0;32m      8\u001b[0m             \u001b[38;5;28mprint\u001b[39m(\u001b[38;5;124m'\u001b[39m\u001b[38;5;124mEl elemento\u001b[39m\u001b[38;5;124m'\u001b[39m, i, \u001b[38;5;124m'\u001b[39m\u001b[38;5;124mSI es un numero primo\u001b[39m\u001b[38;5;124m'\u001b[39m)\n\u001b[0;32m      9\u001b[0m         \u001b[38;5;28;01melse\u001b[39;00m:\n",
      "\u001b[1;31mAttributeError\u001b[0m: 'Funciones' object has no attribute '_Funciones__verificar_primo'"
     ]
    }
   ],
   "source": [
    "h.verificar_Primo()"
   ]
  },
  {
   "cell_type": "code",
   "execution_count": 99,
   "metadata": {},
   "outputs": [
    {
     "name": "stdout",
     "output_type": "stream",
     "text": [
      "120\n"
     ]
    }
   ],
   "source": [
    "\n",
    "print(h.factorial(5))\n"
   ]
  },
  {
   "attachments": {},
   "cell_type": "markdown",
   "metadata": {},
   "source": [
    "8) Crear un archivo .py aparte y ubicar allí la clase generada en el punto anterior. Luego realizar la importación del módulo y probar alguna de sus funciones"
   ]
  },
  {
   "cell_type": "code",
   "execution_count": 102,
   "metadata": {},
   "outputs": [],
   "source": [
    "from Funciones import *\n"
   ]
  },
  {
   "cell_type": "code",
   "execution_count": 103,
   "metadata": {},
   "outputs": [],
   "source": [
    "h2 = Funciones([1,1,2,3,5,6,8,8])"
   ]
  },
  {
   "cell_type": "code",
   "execution_count": 104,
   "metadata": {},
   "outputs": [
    {
     "name": "stdout",
     "output_type": "stream",
     "text": [
      "120\n"
     ]
    }
   ],
   "source": [
    "print(h2.factorial(5))"
   ]
  }
 ],
 "metadata": {
  "interpreter": {
   "hash": "c85384e4cb51c8b72350f3a8712cc8351fdc3955e32a27f9b60c6242ab125f01"
  },
  "kernelspec": {
   "display_name": "Python 3 (ipykernel)",
   "language": "python",
   "name": "python3"
  },
  "language_info": {
   "codemirror_mode": {
    "name": "ipython",
    "version": 3
   },
   "file_extension": ".py",
   "mimetype": "text/x-python",
   "name": "python",
   "nbconvert_exporter": "python",
   "pygments_lexer": "ipython3",
   "version": "3.11.7"
  }
 },
 "nbformat": 4,
 "nbformat_minor": 4
}
