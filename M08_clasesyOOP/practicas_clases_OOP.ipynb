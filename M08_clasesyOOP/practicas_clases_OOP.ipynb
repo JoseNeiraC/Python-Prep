{
 "cells": [
  {
   "cell_type": "code",
   "execution_count": null,
   "metadata": {},
   "outputs": [],
   "source": [
    "# Conceptos de Clases\n",
    "\n",
    "# CLASES = Plantillas que definen caracteristicas\n",
    "# OBJETOS = Contenedor que tiene caracteristicas y acciones propias\n",
    "# INSTAR UNA CLASE = Crear un objeto usando una clase como plantilla\n",
    "# ATRIBUTOS = Caracteristicas/propiedades que definen un objeto\n",
    "# METODOS = Acciones que el objeto puede realizar\n",
    "# Prog orientada a objetos (OOP) = Crear objetos a partir de una plantilla llamada CLASE\n",
    "\n"
   ]
  },
  {
   "cell_type": "code",
   "execution_count": 15,
   "metadata": {},
   "outputs": [],
   "source": [
    "# Crear clase\n",
    "\n",
    "class Gato:\n",
    "    def __init__(self,nombre,edad):\n",
    "        self.nombre = nombre\n",
    "        self.edad = edad\n",
    "    \n",
    "# Crear metodo para presentar informacion\n",
    "        \n",
    "    def presentar(self):\n",
    "        return print('Nombre:',self.nombre,'Edad:',self.edad)"
   ]
  },
  {
   "cell_type": "code",
   "execution_count": 16,
   "metadata": {},
   "outputs": [
    {
     "name": "stdout",
     "output_type": "stream",
     "text": [
      "<__main__.Gato object at 0x0000025A23530AD0>\n"
     ]
    }
   ],
   "source": [
    "# Crear Objeto = Instar clase Gato\n",
    "\n",
    "gato1 = Gato('Michu',3)\n",
    "\n",
    "print (gato1)    # Print no visualiza informacion de objeto"
   ]
  },
  {
   "cell_type": "code",
   "execution_count": 17,
   "metadata": {},
   "outputs": [
    {
     "name": "stdout",
     "output_type": "stream",
     "text": [
      "Nombre: Michu Edad: 3\n"
     ]
    }
   ],
   "source": [
    "# Visualizar datos\n",
    "\n",
    "gato1.presentar()"
   ]
  },
  {
   "cell_type": "code",
   "execution_count": null,
   "metadata": {},
   "outputs": [],
   "source": [
    "# 4 Pilares de OOP\n",
    "# ABSTRACCION\n",
    "# ENCAPSULAMIENTO\n",
    "# HERENCIA\n",
    "# POLIMORFISMO\n"
   ]
  },
  {
   "cell_type": "code",
   "execution_count": 26,
   "metadata": {},
   "outputs": [],
   "source": [
    "# Ejemplo de polimorfismo\n",
    "\n",
    "class Animal:\n",
    "    def __init__(self,especie,edad,color):\n",
    "        self.especie = especie\n",
    "        self.edad = edad\n",
    "        self.color = color\n",
    "\n",
    "    def mePresento(self):\n",
    "        print('Hola: soy ', self.especie, ' Tengo ', self.edad, 'y soy de color ', self.color)\n",
    "\n",
    "    def cumplirAños(self):\n",
    "        self.edad = self.edad + 1\n",
    "\n",
    "\n"
   ]
  },
  {
   "cell_type": "code",
   "execution_count": 27,
   "metadata": {},
   "outputs": [],
   "source": [
    "# Creacion de objetos\n",
    "\n",
    "a1 = Animal('gato',3,'gris')\n",
    "a2 = Animal('liebre',2,'blanco')\n"
   ]
  },
  {
   "cell_type": "code",
   "execution_count": 28,
   "metadata": {},
   "outputs": [
    {
     "name": "stdout",
     "output_type": "stream",
     "text": [
      "gato\n",
      "gris\n",
      "liebre\n",
      "blanco\n"
     ]
    }
   ],
   "source": [
    "# Recuperar datos de ciertos elementos de los objetos\n",
    "\n",
    "print(a1.especie)\n",
    "print(a1.color)\n",
    "print(a2.especie)\n",
    "print(a2.color)"
   ]
  },
  {
   "cell_type": "code",
   "execution_count": 30,
   "metadata": {},
   "outputs": [
    {
     "name": "stdout",
     "output_type": "stream",
     "text": [
      "Hola: soy  gato  Tengo  3 y soy de color  gris\n",
      "Hola: soy  liebre  Tengo  2 y soy de color  blanco\n"
     ]
    }
   ],
   "source": [
    "a1.mePresento()\n",
    "a2.mePresento()"
   ]
  },
  {
   "cell_type": "code",
   "execution_count": 31,
   "metadata": {},
   "outputs": [
    {
     "name": "stdout",
     "output_type": "stream",
     "text": [
      "Hola: soy  gato  Tengo  4 y soy de color  gris\n",
      "Hola: soy  liebre  Tengo  3 y soy de color  blanco\n"
     ]
    }
   ],
   "source": [
    "# Cambio de valores por el uso de metodos adicionales creados en la misma clase\n",
    "\n",
    "a1.cumplirAños()\n",
    "a2.cumplirAños()\n",
    "\n",
    "a1.mePresento()\n",
    "a2.mePresento()"
   ]
  }
 ],
 "metadata": {
  "kernelspec": {
   "display_name": "Python 3",
   "language": "python",
   "name": "python3"
  },
  "language_info": {
   "codemirror_mode": {
    "name": "ipython",
    "version": 3
   },
   "file_extension": ".py",
   "mimetype": "text/x-python",
   "name": "python",
   "nbconvert_exporter": "python",
   "pygments_lexer": "ipython3",
   "version": "3.11.7"
  }
 },
 "nbformat": 4,
 "nbformat_minor": 2
}
