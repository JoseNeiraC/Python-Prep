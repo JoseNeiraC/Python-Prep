{
 "cells": [
  {
   "cell_type": "code",
   "execution_count": null,
   "metadata": {},
   "outputs": [],
   "source": [
    "# Conceptos de Clases\n",
    "\n",
    "# CLASES = Plantillas que definen caracteristicas\n",
    "# OBJETOS = Contenedor que tiene caracteristicas y acciones propias\n",
    "# INSTAR UNA CLASE = Crear un objeto usando una clase como plantilla\n",
    "# ATRIBUTOS = Caracteristicas/propiedades que definen un objeto\n",
    "# METODOS = Acciones que el objeto puede realizar\n",
    "# Prog orientada a objetos (OOP) = Crear objetos a partir de una plantilla llamada CLASE\n",
    "\n"
   ]
  },
  {
   "cell_type": "code",
   "execution_count": 15,
   "metadata": {},
   "outputs": [],
   "source": [
    "# Crear clase\n",
    "\n",
    "class Gato:\n",
    "    def __init__(self,nombre,edad):\n",
    "        self.nombre = nombre\n",
    "        self.edad = edad\n",
    "    \n",
    "# Crear metodo para presentar informacion\n",
    "        \n",
    "    def presentar(self):\n",
    "        return print('Nombre:',self.nombre,'Edad:',self.edad)"
   ]
  },
  {
   "cell_type": "code",
   "execution_count": 16,
   "metadata": {},
   "outputs": [
    {
     "name": "stdout",
     "output_type": "stream",
     "text": [
      "<__main__.Gato object at 0x0000025A23530AD0>\n"
     ]
    }
   ],
   "source": [
    "# Crear Objeto = Instar clase Gato\n",
    "\n",
    "gato1 = Gato('Michu',3)\n",
    "\n",
    "print (gato1)    # Print no visualiza informacion de objeto"
   ]
  },
  {
   "cell_type": "code",
   "execution_count": 17,
   "metadata": {},
   "outputs": [
    {
     "name": "stdout",
     "output_type": "stream",
     "text": [
      "Nombre: Michu Edad: 3\n"
     ]
    }
   ],
   "source": [
    "# Visualizar datos\n",
    "\n",
    "gato1.presentar()"
   ]
  },
  {
   "cell_type": "code",
   "execution_count": null,
   "metadata": {},
   "outputs": [],
   "source": [
    "# 4 Pilares de OOP\n",
    "# ABSTRACCION\n",
    "# ENCAPSULAMIENTO\n",
    "# HERENCIA\n",
    "# POLIMORFISMO\n"
   ]
  },
  {
   "cell_type": "code",
   "execution_count": 26,
   "metadata": {},
   "outputs": [],
   "source": [
    "# Ejemplo de polimorfismo\n",
    "\n",
    "class Animal:\n",
    "    def __init__(self,especie,edad,color):\n",
    "        self.especie = especie\n",
    "        self.edad = edad\n",
    "        self.color = color\n",
    "\n",
    "    def mePresento(self):\n",
    "        print('Hola: soy ', self.especie, ' Tengo ', self.edad, 'y soy de color ', self.color)\n",
    "\n",
    "    def cumplirAños(self):\n",
    "        self.edad = self.edad + 1\n",
    "\n",
    "\n"
   ]
  },
  {
   "cell_type": "code",
   "execution_count": 27,
   "metadata": {},
   "outputs": [],
   "source": [
    "# Creacion de objetos\n",
    "\n",
    "a1 = Animal('gato',3,'gris')\n",
    "a2 = Animal('liebre',2,'blanco')\n"
   ]
  },
  {
   "cell_type": "code",
   "execution_count": 28,
   "metadata": {},
   "outputs": [
    {
     "name": "stdout",
     "output_type": "stream",
     "text": [
      "gato\n",
      "gris\n",
      "liebre\n",
      "blanco\n"
     ]
    }
   ],
   "source": [
    "# Recuperar datos de ciertos elementos de los objetos\n",
    "\n",
    "print(a1.especie)\n",
    "print(a1.color)\n",
    "print(a2.especie)\n",
    "print(a2.color)"
   ]
  },
  {
   "cell_type": "code",
   "execution_count": 30,
   "metadata": {},
   "outputs": [
    {
     "name": "stdout",
     "output_type": "stream",
     "text": [
      "Hola: soy  gato  Tengo  3 y soy de color  gris\n",
      "Hola: soy  liebre  Tengo  2 y soy de color  blanco\n"
     ]
    }
   ],
   "source": [
    "a1.mePresento()\n",
    "a2.mePresento()"
   ]
  },
  {
   "cell_type": "code",
   "execution_count": 31,
   "metadata": {},
   "outputs": [
    {
     "name": "stdout",
     "output_type": "stream",
     "text": [
      "Hola: soy  gato  Tengo  4 y soy de color  gris\n",
      "Hola: soy  liebre  Tengo  3 y soy de color  blanco\n"
     ]
    }
   ],
   "source": [
    "# Cambio de valores por el uso de metodos adicionales creados en la misma clase\n",
    "\n",
    "a1.cumplirAños()\n",
    "a2.cumplirAños()\n",
    "\n",
    "a1.mePresento()\n",
    "a2.mePresento()"
   ]
  },
  {
   "cell_type": "code",
   "execution_count": 15,
   "metadata": {},
   "outputs": [],
   "source": [
    "# Herencias\n",
    "\n",
    "# Creacion de CLASE BASE\n",
    "\n",
    "class Animal:\n",
    "    def __init__ (self, especie, edad):\n",
    "        self.especie = especie\n",
    "        self.edad = edad\n",
    "\n",
    "    def hablar(self):   # Metodo generico con implementacion particular\n",
    "        pass            # Metodo vacio\n",
    "\n",
    "    def moverse(self):\n",
    "        pass\n",
    "\n",
    "    def describeme(self): # Metodo generico con la misma implementacion\n",
    "        print('Soy un animal del tipo ', type(self).__name__)\n",
    "\n"
   ]
  },
  {
   "cell_type": "code",
   "execution_count": 17,
   "metadata": {},
   "outputs": [],
   "source": [
    "class Perro(Animal): # Nueva clase hijo vacia\n",
    "    pass\n"
   ]
  },
  {
   "cell_type": "code",
   "execution_count": 18,
   "metadata": {},
   "outputs": [
    {
     "name": "stdout",
     "output_type": "stream",
     "text": [
      "Soy un animal del tipo  Perro\n"
     ]
    }
   ],
   "source": [
    "mi_perro = Perro('mamifero',5)\n",
    "mi_perro.describeme()            # Metodo heredado DIRECTAMENTE de la clase PADRE"
   ]
  },
  {
   "cell_type": "code",
   "execution_count": 27,
   "metadata": {},
   "outputs": [],
   "source": [
    "# Instanciar 3 nuevas clases HIJAS\n",
    "class Perro(Animal):\n",
    "        def hablar(self):        # Metodo heredado de la clase PADRE pero modificado\n",
    "                print('Guau')\n",
    "        def moverse(self):\n",
    "                print('caminar en cuatro patas')\n",
    "\n"
   ]
  },
  {
   "cell_type": "code",
   "execution_count": 28,
   "metadata": {},
   "outputs": [],
   "source": [
    "class Vaca(Animal):\n",
    "    def hablar(self): \n",
    "        print('Muu')\n",
    "    def moverse(self):\n",
    "        print('caminar en cuatro patas')"
   ]
  },
  {
   "cell_type": "code",
   "execution_count": 32,
   "metadata": {},
   "outputs": [],
   "source": [
    "class Abeja(Animal):\n",
    "    def hablar(self): \n",
    "        print('Bzzz')\n",
    "    def moverse(self):\n",
    "        print('volar')\n",
    "    def picar(self):               # Metodo creado en la clase hija\n",
    "        print('picar!')"
   ]
  },
  {
   "cell_type": "code",
   "execution_count": 33,
   "metadata": {},
   "outputs": [],
   "source": [
    "# Instancear 3 objetos de la clase hija\n",
    "\n",
    "mi_perro = Perro('mamifero',5)\n",
    "mi_vaca  = Vaca('mamifero',20)\n",
    "mi_abeja = Abeja('insecto',1)\n"
   ]
  },
  {
   "cell_type": "code",
   "execution_count": 34,
   "metadata": {},
   "outputs": [
    {
     "name": "stdout",
     "output_type": "stream",
     "text": [
      "Guau\n",
      "Soy un animal del tipo  Perro\n"
     ]
    }
   ],
   "source": [
    "mi_perro.hablar()\n",
    "mi_perro.describeme()"
   ]
  },
  {
   "cell_type": "code",
   "execution_count": 35,
   "metadata": {},
   "outputs": [
    {
     "name": "stdout",
     "output_type": "stream",
     "text": [
      "Soy un animal del tipo  Abeja\n",
      "picar!\n"
     ]
    }
   ],
   "source": [
    "mi_abeja.describeme()\n",
    "mi_abeja.picar()\n"
   ]
  },
  {
   "cell_type": "code",
   "execution_count": 36,
   "metadata": {},
   "outputs": [
    {
     "ename": "AttributeError",
     "evalue": "'Perro' object has no attribute 'picar'",
     "output_type": "error",
     "traceback": [
      "\u001b[1;31m---------------------------------------------------------------------------\u001b[0m",
      "\u001b[1;31mAttributeError\u001b[0m                            Traceback (most recent call last)",
      "Cell \u001b[1;32mIn[36], line 1\u001b[0m\n\u001b[1;32m----> 1\u001b[0m \u001b[43mmi_perro\u001b[49m\u001b[38;5;241;43m.\u001b[39;49m\u001b[43mpicar\u001b[49m()\n",
      "\u001b[1;31mAttributeError\u001b[0m: 'Perro' object has no attribute 'picar'"
     ]
    }
   ],
   "source": [
    "mi_perro.picar() # Este metodo esta creado desde clase HIJA y por eso no se hereda a otras clases"
   ]
  },
  {
   "cell_type": "code",
   "execution_count": 37,
   "metadata": {},
   "outputs": [],
   "source": [
    "# Funcion SUPER\n",
    "\n",
    "\n",
    "# Modificar clase Perro instando toda la clase Animal para aumentar otro elemento\n",
    "class Perro(Animal):\n",
    "    def __init__ (self, especie, edad, dueño):\n",
    "        self.especie = especie\n",
    "        self.edad = edad\n",
    "        self.dueño = dueño\n",
    "\n",
    "# La misma labor usando funcion SUPER < # Invoca todos los metodos desde la clase BASE (clase Padre)\n",
    "        \n",
    "class Perro(Animal):\n",
    "    def __init__ (self, especie, edad, dueño):\n",
    "        super().__init__(especie,edad)\n",
    "        self.dueño = dueño"
   ]
  },
  {
   "cell_type": "code",
   "execution_count": 38,
   "metadata": {},
   "outputs": [],
   "source": [
    "nuevo_perro = Perro('mamifero',5,\"Jorge\")\n"
   ]
  },
  {
   "cell_type": "code",
   "execution_count": 41,
   "metadata": {},
   "outputs": [
    {
     "name": "stdout",
     "output_type": "stream",
     "text": [
      "mamifero\n",
      "5\n",
      "Jorge\n",
      "Soy un animal del tipo  Perro\n"
     ]
    }
   ],
   "source": [
    "print(nuevo_perro.especie)\n",
    "print(nuevo_perro.edad)\n",
    "print(nuevo_perro.dueño)\n",
    "nuevo_perro.describeme()"
   ]
  },
  {
   "cell_type": "code",
   "execution_count": 42,
   "metadata": {},
   "outputs": [
    {
     "name": "stdout",
     "output_type": "stream",
     "text": [
      "3.0\n"
     ]
    }
   ],
   "source": [
    "# Uso de modulos y bibliotecas\n",
    "\n",
    "# uso de libreria MATH de Python\n",
    "\n",
    "import math\n",
    "\n",
    "x = 9\n",
    "raiz_cuadrada = math.sqrt(x)\n",
    "\n",
    "print(raiz_cuadrada)"
   ]
  },
  {
   "cell_type": "code",
   "execution_count": 44,
   "metadata": {},
   "outputs": [
    {
     "name": "stdout",
     "output_type": "stream",
     "text": [
      "7\n",
      "3\n"
     ]
    }
   ],
   "source": [
    "# Creacion de modulos con operaciones\n",
    "\n",
    "# ACCEDER al contenido del modulo\n",
    "\n",
    "import mimodulo\n",
    "\n",
    "print(mimodulo.suma(4,3))\n",
    "print(mimodulo.resta(7,4))\n",
    "\n"
   ]
  },
  {
   "cell_type": "code",
   "execution_count": 45,
   "metadata": {},
   "outputs": [
    {
     "name": "stdout",
     "output_type": "stream",
     "text": [
      "11\n"
     ]
    }
   ],
   "source": [
    "# Importar solo los componentes que nos interesen, por ejemplo metodos\n",
    "\n",
    "from mimodulo import suma\n",
    "\n",
    "print(mimodulo.suma(8,3))"
   ]
  },
  {
   "cell_type": "code",
   "execution_count": 47,
   "metadata": {},
   "outputs": [
    {
     "name": "stdout",
     "output_type": "stream",
     "text": [
      "3\n"
     ]
    }
   ],
   "source": [
    "# Importar todo el modulo\n",
    "\n",
    "from mimodulo import *\n",
    "\n",
    "print(resta(7,4))   # Ya no necesitas mencionar el modulo origen"
   ]
  },
  {
   "cell_type": "code",
   "execution_count": 48,
   "metadata": {},
   "outputs": [
    {
     "name": "stdout",
     "output_type": "stream",
     "text": [
      "['c:\\\\Users\\\\JOSEM\\\\OneDrive\\\\Escritorio\\\\Python-Prep\\\\M08_clasesyOOP', 'C:\\\\Program Files\\\\WindowsApps\\\\PythonSoftwareFoundation.Python.3.11_3.11.2032.0_x64__qbz5n2kfra8p0\\\\python311.zip', 'C:\\\\Program Files\\\\WindowsApps\\\\PythonSoftwareFoundation.Python.3.11_3.11.2032.0_x64__qbz5n2kfra8p0\\\\DLLs', 'C:\\\\Program Files\\\\WindowsApps\\\\PythonSoftwareFoundation.Python.3.11_3.11.2032.0_x64__qbz5n2kfra8p0\\\\Lib', 'C:\\\\Program Files\\\\WindowsApps\\\\PythonSoftwareFoundation.Python.3.11_3.11.2032.0_x64__qbz5n2kfra8p0', '', 'C:\\\\Users\\\\JOSEM\\\\AppData\\\\Local\\\\Packages\\\\PythonSoftwareFoundation.Python.3.11_qbz5n2kfra8p0\\\\LocalCache\\\\local-packages\\\\Python311\\\\site-packages', 'C:\\\\Users\\\\JOSEM\\\\AppData\\\\Local\\\\Packages\\\\PythonSoftwareFoundation.Python.3.11_qbz5n2kfra8p0\\\\LocalCache\\\\local-packages\\\\Python311\\\\site-packages\\\\win32', 'C:\\\\Users\\\\JOSEM\\\\AppData\\\\Local\\\\Packages\\\\PythonSoftwareFoundation.Python.3.11_qbz5n2kfra8p0\\\\LocalCache\\\\local-packages\\\\Python311\\\\site-packages\\\\win32\\\\lib', 'C:\\\\Users\\\\JOSEM\\\\AppData\\\\Local\\\\Packages\\\\PythonSoftwareFoundation.Python.3.11_qbz5n2kfra8p0\\\\LocalCache\\\\local-packages\\\\Python311\\\\site-packages\\\\Pythonwin', 'C:\\\\Program Files\\\\WindowsApps\\\\PythonSoftwareFoundation.Python.3.11_3.11.2032.0_x64__qbz5n2kfra8p0\\\\Lib\\\\site-packages']\n"
     ]
    }
   ],
   "source": [
    "# Importar modulos\n",
    "\n",
    "# sys.path > Lista que contiene las rutas de busqueda de los modulos\n",
    "\n",
    "# sys > modulo que permite acceder a variables y funciones\n",
    "\n",
    "import sys\n",
    "print(sys.path)\n"
   ]
  },
  {
   "cell_type": "code",
   "execution_count": 49,
   "metadata": {},
   "outputs": [],
   "source": [
    "# sys.path.append permite importar un modulo desde otra ubicacion especifica\n",
    "\n",
    "sys.path.append(r'C:\\Users\\JOSEM\\OneDrive\\Escritorio\\Python-Prep\\M08_clasesyOOP\\mimodulo.py')\n"
   ]
  },
  {
   "cell_type": "code",
   "execution_count": null,
   "metadata": {},
   "outputs": [],
   "source": [
    "# Uso de ALIAS > as\n",
    "\n",
    "# EJ: \n",
    "# import moduloconnombrelargo as m\n",
    "\n",
    "# print(m.hola)"
   ]
  },
  {
   "cell_type": "code",
   "execution_count": 51,
   "metadata": {},
   "outputs": [
    {
     "name": "stdout",
     "output_type": "stream",
     "text": [
      "['Abeja', 'Animal', 'In', 'Out', 'Perro', 'Vaca', '_', '__', '___', '__builtin__', '__builtins__', '__doc__', '__loader__', '__name__', '__package__', '__spec__', '__vsc_ipynb_file__', '_dh', '_i', '_i1', '_i10', '_i11', '_i12', '_i13', '_i14', '_i15', '_i16', '_i17', '_i18', '_i19', '_i2', '_i20', '_i21', '_i22', '_i23', '_i25', '_i26', '_i27', '_i28', '_i29', '_i3', '_i30', '_i31', '_i32', '_i33', '_i34', '_i35', '_i36', '_i37', '_i38', '_i39', '_i4', '_i40', '_i41', '_i42', '_i43', '_i44', '_i45', '_i46', '_i47', '_i48', '_i49', '_i5', '_i50', '_i51', '_i6', '_i7', '_i8', '_i9', '_ih', '_ii', '_iii', '_oh', 'exit', 'get_ipython', 'math', 'mi_abeja', 'mi_perro', 'mi_vaca', 'mimodulo', 'nuevo_perro', 'open', 'quit', 'raiz_cuadrada', 'resta', 'suma', 'sys', 'x']\n"
     ]
    }
   ],
   "source": [
    "# namespace > Diccionario con nombres de variables\n",
    "\n",
    "print(dir())"
   ]
  },
  {
   "cell_type": "code",
   "execution_count": 52,
   "metadata": {},
   "outputs": [
    {
     "ename": "NameError",
     "evalue": "name '__file__' is not defined",
     "output_type": "error",
     "traceback": [
      "\u001b[1;31m---------------------------------------------------------------------------\u001b[0m",
      "\u001b[1;31mNameError\u001b[0m                                 Traceback (most recent call last)",
      "Cell \u001b[1;32mIn[52], line 1\u001b[0m\n\u001b[1;32m----> 1\u001b[0m \u001b[38;5;28mprint\u001b[39m(\u001b[38;5;18;43m__file__\u001b[39;49m)\n",
      "\u001b[1;31mNameError\u001b[0m: name '__file__' is not defined"
     ]
    }
   ],
   "source": [
    "print(__file__)"
   ]
  },
  {
   "cell_type": "code",
   "execution_count": null,
   "metadata": {},
   "outputs": [],
   "source": [
    "# Herramientas para busqueda de nombre\n",
    "\n",
    "# dir      > Entrega lista de nombres                   Ej: print(dir(mimodulo))\n",
    "\n",
    "# __name__ > Entrega nombre del modulo                  Ej: print(mimodulo.__name__)\n",
    "\n",
    "# __file__ > Entrega la ruta de ubicacion del archivo   Ej: print(mimodulo.__file__)\n",
    "\n",
    "# reload   > Recarga nuevamente un modulo.  Ej:\n",
    "\n",
    "# import mimodulo\n",
    "# import importlib\n",
    "# importlib.reload(mimodulo)\n",
    "# importlib.reload(mimodulo)\n"
   ]
  }
 ],
 "metadata": {
  "kernelspec": {
   "display_name": "Python 3",
   "language": "python",
   "name": "python3"
  },
  "language_info": {
   "codemirror_mode": {
    "name": "ipython",
    "version": 3
   },
   "file_extension": ".py",
   "mimetype": "text/x-python",
   "name": "python",
   "nbconvert_exporter": "python",
   "pygments_lexer": "ipython3",
   "version": "3.11.7"
  }
 },
 "nbformat": 4,
 "nbformat_minor": 2
}
