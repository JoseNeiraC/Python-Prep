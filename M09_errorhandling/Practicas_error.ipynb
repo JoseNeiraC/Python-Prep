{
 "cells": [
  {
   "cell_type": "code",
   "execution_count": 32,
   "metadata": {},
   "outputs": [],
   "source": [
    "# Manejo de errores\n",
    "\n",
    "# PRUEBAS DE CAJA NEGRA\n",
    "\n",
    "#  - PRUEBAS UNITARIAS\n",
    "\n",
    "#    - LIBRERIA UNITEST"
   ]
  },
  {
   "cell_type": "code",
   "execution_count": 45,
   "metadata": {},
   "outputs": [],
   "source": [
    "# Importar libreria unittest\n",
    "\n",
    "import unittest"
   ]
  },
  {
   "cell_type": "code",
   "execution_count": 46,
   "metadata": {},
   "outputs": [],
   "source": [
    "# Pruebas con funcion SUMA\n",
    "\n",
    "def suma(num_1,num_2):\n",
    "    return num_1 + num_2"
   ]
  },
  {
   "cell_type": "code",
   "execution_count": 47,
   "metadata": {},
   "outputs": [],
   "source": [
    "# Definir prueba CAJA NEGRA TEST > unittest.testcase\n",
    "\n",
    "# cajanegratest < hereda de unittest.testcase\n",
    "\n",
    "# Se usan diferentes metodos de prueba de funcion suma < Pasan diferentes argumentos y comparan con el resultado\n",
    "\n",
    "# 1er metodo: test_suma_dos_positivos\n",
    "\n",
    "class CajaNegraTest (unittest.TestCase):\n",
    "    def test_suma_dos_positivos(self):\n",
    "        num_1 = 10\n",
    "        num_2 = 5\n",
    "\n",
    "        resultado = suma(num_1, num_2)\n",
    "\n",
    "        self.assertEqual(resultado, 15)\n",
    "\n",
    "\n",
    "# 2do metodo: test_suma_dos_negativos\n",
    "\n",
    "class CajaNegraTest (unittest.TestCase):\n",
    "    def test_suma_dos_negativos(self):\n",
    "        num_1 = -10\n",
    "        num_2 = -5\n",
    "\n",
    "        resultado = suma(num_1, num_2)\n",
    "                     \n",
    "        self.assertEqual(resultado, -15)\n",
    "\n",
    "\n",
    "# Se realizan las pruebas desde la clase MAIN de unitest \n",
    "# Al hacerlas desde la clase MAIN se garantiza que se ejecutaran todas las pruebas"
   ]
  },
  {
   "cell_type": "code",
   "execution_count": 48,
   "metadata": {},
   "outputs": [
    {
     "name": "stderr",
     "output_type": "stream",
     "text": [
      "test_suma_dos_negativos (__main__.CajaNegraTest.test_suma_dos_negativos) ... ok\n",
      "\n",
      "----------------------------------------------------------------------\n",
      "Ran 1 test in 0.004s\n",
      "\n",
      "OK\n"
     ]
    },
    {
     "ename": "NameError",
     "evalue": "name 'test_suma_dos_positivos' is not defined",
     "output_type": "error",
     "traceback": [
      "\u001b[1;31m---------------------------------------------------------------------------\u001b[0m",
      "\u001b[1;31mNameError\u001b[0m                                 Traceback (most recent call last)",
      "Cell \u001b[1;32mIn[48], line 8\u001b[0m\n\u001b[0;32m      1\u001b[0m \u001b[38;5;66;03m# Argumento argv > Proporciona argumentos de linea de comando a la prueba\u001b[39;00m\n\u001b[0;32m      2\u001b[0m \n\u001b[0;32m      3\u001b[0m \u001b[38;5;66;03m# Argumento exit > Se usa para indicar si se debe detener la ejecucion al terminar las pruebas\u001b[39;00m\n\u001b[0;32m      4\u001b[0m \u001b[38;5;66;03m# Puede ser establecido en  False = Se sigue ejecutando al terminar las pruebas\u001b[39;00m\n\u001b[0;32m      5\u001b[0m \u001b[38;5;66;03m#                           True  = Se detiene ejecucion al terminar las pruebas\u001b[39;00m\n\u001b[0;32m      7\u001b[0m unittest\u001b[38;5;241m.\u001b[39mmain(argv\u001b[38;5;241m=\u001b[39m[\u001b[38;5;124m\"\u001b[39m\u001b[38;5;124m\"\u001b[39m], verbosity\u001b[38;5;241m=\u001b[39m\u001b[38;5;241m2\u001b[39m, exit \u001b[38;5;241m=\u001b[39m \u001b[38;5;28;01mFalse\u001b[39;00m)\n\u001b[1;32m----> 8\u001b[0m \u001b[43mtest_suma_dos_positivos\u001b[49m(__main__\u001b[38;5;241m.\u001b[39mCajaNegraTest)\n\u001b[0;32m      9\u001b[0m test_suma_dos_negativos(__main__\u001b[38;5;241m.\u001b[39mCajaNegraTest)\n\u001b[0;32m     12\u001b[0m \u001b[38;5;66;03m#### Revisar error en suma positivos\u001b[39;00m\n",
      "\u001b[1;31mNameError\u001b[0m: name 'test_suma_dos_positivos' is not defined"
     ]
    }
   ],
   "source": [
    "#   Argumento ARGV > Proporciona argumentos de linea de comando a la prueba\n",
    "\n",
    "#   Argumento VERBOSITY se usa para controlar la cantidad de informacion que se muestra en las pruebas \n",
    "#   Ej: Verbosity = 2 > 1 linea de resumen por cada prueba + 1 linea detallada para cada prueba que falle    Ej: Verbosity = 2 > 1 linea de resumen + 1 linea detallada para cada metodo de prueba\n",
    "\n",
    "#   Argumento EXIT > Se usa para indicar si se debe detener la ejecucion al terminar las pruebas\n",
    "#       Puede ser establecido en  False = Se sigue ejecutando al terminar las pruebas\n",
    "#                           True  = Se detiene ejecucion al terminar las pruebas\n",
    "\n",
    "unittest.main(argv=[\"\"], verbosity=2, exit = False)\n",
    "test_suma_dos_positivos(__main__.CajaNegraTest)\n",
    "test_suma_dos_negativos(__main__.CajaNegraTest)\n",
    "\n",
    "\n",
    "#### Revisar error en suma positivos"
   ]
  },
  {
   "cell_type": "code",
   "execution_count": 50,
   "metadata": {},
   "outputs": [],
   "source": [
    "# PRUEBAS DE CAJA DE CRISTAL\n",
    "\n",
    "import unittest\n"
   ]
  },
  {
   "cell_type": "code",
   "execution_count": 51,
   "metadata": {},
   "outputs": [],
   "source": [
    "def es_mayor_de_edad(edad):\n",
    "    if edad >= 18:\n",
    "        return True\n",
    "    else:\n",
    "        return False"
   ]
  },
  {
   "cell_type": "code",
   "execution_count": 52,
   "metadata": {},
   "outputs": [],
   "source": [
    "class PruebaDeCristalTest(unittest.TestCase):   # Definir PruebaDeCristalTest\n",
    "    def test_es_mayor_de_edad(self):         # Metodo de prueba\n",
    "        edad = 20\n",
    "\n",
    "        resultado = es_mayor_de_edad(20)\n",
    "\n",
    "        self.assertEqual(resultado, True)   # Metodo para valida si el resultado en correcto\n",
    "\n",
    "    def test_es_menor_de_edad(self):        # Metodo de prueba\n",
    "        edad = 15\n",
    "\n",
    "        resultado = es_mayor_de_edad(15)\n",
    "\n",
    "        self.assertEqual(resultado, False)\n"
   ]
  },
  {
   "cell_type": "code",
   "execution_count": 53,
   "metadata": {},
   "outputs": [
    {
     "name": "stderr",
     "output_type": "stream",
     "text": [
      "test_suma_dos_negativos (__main__.CajaNegraTest.test_suma_dos_negativos) ... ok\n",
      "test_es_mayor_de_edad (__main__.PruebaDeCristalTest.test_es_mayor_de_edad) ... ok\n",
      "test_es_menor_de_edad (__main__.PruebaDeCristalTest.test_es_menor_de_edad) ... ok\n",
      "\n",
      "----------------------------------------------------------------------\n",
      "Ran 3 tests in 0.020s\n",
      "\n",
      "OK\n"
     ]
    },
    {
     "data": {
      "text/plain": [
       "<unittest.main.TestProgram at 0x1ac3916db10>"
      ]
     },
     "execution_count": 53,
     "metadata": {},
     "output_type": "execute_result"
    }
   ],
   "source": [
    "# Llamado a metodo Main del modulo UNITEST para ejecutar todas las pruebas\n",
    "\n",
    "#   VERBOSITY se usa para controlar la cantidad de informacion que se muestra en las pruebas \n",
    "#   Ej: Verbosity = 2 > 1 linea de resumen por cada prueba + 1 linea detallada para cada prueba que falle\n",
    "\n",
    "# Argumento exit > Se usa para indicar si se debe detener la ejecucion al terminar las pruebas\n",
    "\n",
    "unittest.main(argv = [''],verbosity = 2, exit = False)\n",
    "\n"
   ]
  },
  {
   "cell_type": "code",
   "execution_count": 54,
   "metadata": {},
   "outputs": [],
   "source": [
    "# MANEJO DE EXCEPCIONES\n",
    "\n",
    "# Uso de TRY\n",
    "\n",
    "def divide_elementos_de_lista(lista, divisor):\n",
    "    try:\n",
    "        return [i/divisor for i in lista]\n",
    "    except ZeroDivisionError as e:\n",
    "        print(e)\n",
    "        return lista\n",
    "    "
   ]
  },
  {
   "cell_type": "code",
   "execution_count": 55,
   "metadata": {},
   "outputs": [
    {
     "name": "stdout",
     "output_type": "stream",
     "text": [
      "division by zero\n",
      "[0, 1, 2, 3, 4, 5, 6, 7, 8, 9]\n"
     ]
    }
   ],
   "source": [
    "lista = list(range(10))\n",
    "divisor = 0\n",
    "print(divide_elementos_de_lista(lista, divisor))"
   ]
  },
  {
   "cell_type": "code",
   "execution_count": 56,
   "metadata": {},
   "outputs": [],
   "source": [
    "# Sintaxis basica de Excepciones\n",
    "\"\"\"\n",
    "#  Try:                     \n",
    "        <   codigo que puede generar una excepcion\n",
    "\n",
    "#  except ExceptionType:    \n",
    "        <   Codigo que maneja la excepcion\n",
    "\"\"\"\n",
    "\n",
    "def dividir (num1, num2):\n",
    "    try:\n",
    "        division = (num1 / num2)\n",
    "        return print(division)\n",
    "    \n",
    "    except ZeroDivisionError:\n",
    "        print('El numero no es divisible para cero')\n",
    "        return None\n",
    "\n"
   ]
  },
  {
   "cell_type": "code",
   "execution_count": 59,
   "metadata": {},
   "outputs": [
    {
     "name": "stdout",
     "output_type": "stream",
     "text": [
      "El numero no es divisible para cero\n"
     ]
    }
   ],
   "source": [
    "dividir(6,0)"
   ]
  },
  {
   "cell_type": "code",
   "execution_count": 60,
   "metadata": {},
   "outputs": [
    {
     "name": "stdout",
     "output_type": "stream",
     "text": [
      "El archivo no existe\n"
     ]
    }
   ],
   "source": [
    "\"\"\" Ejemplo de EAFP\"\"\"\n",
    "\n",
    "try:\n",
    "    with open('archivo.txt','r') as f:\n",
    "        contenido = f.read()\n",
    "\n",
    "except FileNotFoundError:\n",
    "    print('El archivo no existe')\n",
    "    "
   ]
  },
  {
   "cell_type": "code",
   "execution_count": 70,
   "metadata": {},
   "outputs": [
    {
     "name": "stdout",
     "output_type": "stream",
     "text": [
      "Esta clave no existe en el diccionario\n"
     ]
    }
   ],
   "source": [
    "paises = {'Canada':'Ca', 'Estados Unidos':'Usa', 'Mexico':'Mx'}\n",
    "          \n",
    "try:\n",
    "    codigo = paises ['Colombia']\n",
    "    print (codigo)\n",
    "\n",
    "except KeyError:\n",
    "    print('Esta clave no existe en el diccionario')"
   ]
  },
  {
   "cell_type": "code",
   "execution_count": 78,
   "metadata": {},
   "outputs": [],
   "source": [
    "\"\"\" Sintaxis de afirmacion en Phyton\n",
    "\n",
    "assert condicion, mensaje_de_Error   \"\"\"\n",
    "\n",
    "def primera_letra(lista_palabras):\n",
    "    primeras_letras = []\n",
    "    for palabra in (lista_palabras):\n",
    "        assert type(palabra) == str , f'{palabra} no es una letra' \n",
    "        assert len(palabra) > 0, 'No se permite strings vacios'\n",
    "\n",
    "    return primeras_letras"
   ]
  },
  {
   "cell_type": "code",
   "execution_count": 79,
   "metadata": {},
   "outputs": [
    {
     "ename": "AssertionError",
     "evalue": "4 no es una letra",
     "output_type": "error",
     "traceback": [
      "\u001b[1;31m---------------------------------------------------------------------------\u001b[0m",
      "\u001b[1;31mAssertionError\u001b[0m                            Traceback (most recent call last)",
      "Cell \u001b[1;32mIn[79], line 2\u001b[0m\n\u001b[0;32m      1\u001b[0m palabras \u001b[38;5;241m=\u001b[39m [\u001b[38;5;124m'\u001b[39m\u001b[38;5;124mrojo\u001b[39m\u001b[38;5;124m'\u001b[39m, \u001b[38;5;124m'\u001b[39m\u001b[38;5;124mletra\u001b[39m\u001b[38;5;124m'\u001b[39m, \u001b[38;5;241m4\u001b[39m]\n\u001b[1;32m----> 2\u001b[0m \u001b[43mprimera_letra\u001b[49m\u001b[43m(\u001b[49m\u001b[43mpalabras\u001b[49m\u001b[43m)\u001b[49m\n",
      "Cell \u001b[1;32mIn[78], line 8\u001b[0m, in \u001b[0;36mprimera_letra\u001b[1;34m(lista_palabras)\u001b[0m\n\u001b[0;32m      6\u001b[0m primeras_letras \u001b[38;5;241m=\u001b[39m []\n\u001b[0;32m      7\u001b[0m \u001b[38;5;28;01mfor\u001b[39;00m palabra \u001b[38;5;129;01min\u001b[39;00m (lista_palabras):\n\u001b[1;32m----> 8\u001b[0m     \u001b[38;5;28;01massert\u001b[39;00m \u001b[38;5;28mtype\u001b[39m(palabra) \u001b[38;5;241m==\u001b[39m \u001b[38;5;28mstr\u001b[39m , \u001b[38;5;124mf\u001b[39m\u001b[38;5;124m'\u001b[39m\u001b[38;5;132;01m{\u001b[39;00mpalabra\u001b[38;5;132;01m}\u001b[39;00m\u001b[38;5;124m no es una letra\u001b[39m\u001b[38;5;124m'\u001b[39m \n\u001b[0;32m      9\u001b[0m     \u001b[38;5;28;01massert\u001b[39;00m \u001b[38;5;28mlen\u001b[39m(palabra) \u001b[38;5;241m>\u001b[39m \u001b[38;5;241m0\u001b[39m, \u001b[38;5;124m'\u001b[39m\u001b[38;5;124mNo se permite strings vacios\u001b[39m\u001b[38;5;124m'\u001b[39m\n\u001b[0;32m     11\u001b[0m \u001b[38;5;28;01mreturn\u001b[39;00m primeras_letras\n",
      "\u001b[1;31mAssertionError\u001b[0m: 4 no es una letra"
     ]
    }
   ],
   "source": [
    "palabras = ['rojo', 'letra', 4]\n",
    "primera_letra(palabras)"
   ]
  }
 ],
 "metadata": {
  "kernelspec": {
   "display_name": "Python 3",
   "language": "python",
   "name": "python3"
  },
  "language_info": {
   "codemirror_mode": {
    "name": "ipython",
    "version": 3
   },
   "file_extension": ".py",
   "mimetype": "text/x-python",
   "name": "python",
   "nbconvert_exporter": "python",
   "pygments_lexer": "ipython3",
   "version": "3.11.7"
  }
 },
 "nbformat": 4,
 "nbformat_minor": 2
}
