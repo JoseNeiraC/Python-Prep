{
 "cells": [
  {
   "cell_type": "code",
   "execution_count": 58,
   "metadata": {},
   "outputs": [
    {
     "name": "stdout",
     "output_type": "stream",
     "text": [
      "El conjunto \"colores\" es de tipo <class 'list'>\n",
      "['amarillo', 'azul', 'rojo']\n",
      "[3, 6, 9, 12]\n",
      "[]\n"
     ]
    }
   ],
   "source": [
    "# ESTRUCTURA DE DATOS: LISTA\n",
    "\n",
    "colores=['amarillo','azul','rojo']\n",
    "numeros=[3,6,9,12]\n",
    "vacio = []\n",
    "print('El conjunto \"colores\" es de tipo',type(colores))\n",
    "print (colores)\n",
    "print (numeros)\n",
    "print (vacio)"
   ]
  },
  {
   "cell_type": "code",
   "execution_count": 59,
   "metadata": {},
   "outputs": [
    {
     "name": "stdout",
     "output_type": "stream",
     "text": [
      "['amarillo', 'azul', 'rojo', 'blanco']\n"
     ]
    }
   ],
   "source": [
    "# Uso de append\n",
    "colores.append('blanco')\n",
    "print (colores)"
   ]
  },
  {
   "cell_type": "code",
   "execution_count": 60,
   "metadata": {},
   "outputs": [
    {
     "name": "stdout",
     "output_type": "stream",
     "text": [
      "['amarillo', 'azul', 'rojo', 'negro', 'blanco']\n"
     ]
    }
   ],
   "source": [
    "# Uso de insert\n",
    "colores.insert(3,'negro')\n",
    "print (colores)"
   ]
  },
  {
   "cell_type": "code",
   "execution_count": 61,
   "metadata": {},
   "outputs": [
    {
     "name": "stdout",
     "output_type": "stream",
     "text": [
      "['amarillo', 'azul', 'rojo', 'negro', 'blanco', 'rosa', 'verde']\n"
     ]
    }
   ],
   "source": [
    "# Uso de extend\n",
    "colores.extend(['rosa','verde'])\n",
    "print (colores)"
   ]
  },
  {
   "cell_type": "code",
   "execution_count": 62,
   "metadata": {},
   "outputs": [
    {
     "data": {
      "text/plain": [
       "3"
      ]
     },
     "execution_count": 62,
     "metadata": {},
     "output_type": "execute_result"
    }
   ],
   "source": [
    "# Uso de index\n",
    "colores.index('negro')"
   ]
  },
  {
   "cell_type": "code",
   "execution_count": 63,
   "metadata": {},
   "outputs": [
    {
     "name": "stdout",
     "output_type": "stream",
     "text": [
      "['amarillo', 'azul', 'rojo', 'negro', 'blanco', 'verde']\n"
     ]
    }
   ],
   "source": [
    "# Uso de remove\n",
    "colores.remove('rosa')\n",
    "print (colores)"
   ]
  },
  {
   "cell_type": "code",
   "execution_count": 64,
   "metadata": {},
   "outputs": [
    {
     "name": "stdout",
     "output_type": "stream",
     "text": [
      "['amarillo', 'azul', 'rojo', 'negro', 'blanco', 'verde']\n",
      "['amarillo', 'azul', 'rojo', 'negro', 'blanco']\n",
      "['amarillo', 'azul', 'rojo', 'negro', 'blanco', 'verde']\n",
      "['amarillo', 'azul', 'rojo', 'negro', 'blanco']\n",
      "verde\n",
      "['amarillo', 'azul', 'rojo', 'negro', 'blanco']\n",
      "['amarillo', 'azul', 'rojo', 'blanco']\n",
      "negro\n"
     ]
    }
   ],
   "source": [
    "# Uso de pop\n",
    "print (colores)\n",
    "\n",
    "colores.pop() # pop default sin guardar variable\n",
    "print (colores)\n",
    "colores.append('verde')\n",
    "print (colores)\n",
    "\n",
    "ultimo = colores.pop()  # pop default + guardado de variable\n",
    "print (colores)\n",
    "print (ultimo)\n",
    "print (colores)\n",
    "\n",
    "tercero = colores.pop(3) # pop con ubicacion definida + guardado de variable eliminada\n",
    "print (colores)\n",
    "print (tercero)\n"
   ]
  },
  {
   "cell_type": "code",
   "execution_count": 65,
   "metadata": {},
   "outputs": [
    {
     "name": "stdout",
     "output_type": "stream",
     "text": [
      "['amarillo', 'azul', 'rojo', 'blanco', 'amarillo', 'azul', 'rojo', 'blanco']\n",
      "['amarillo', 'azul', 'rojo', 'blanco']\n",
      "['amarillo', 'azul', 'rojo', 'blanco']\n",
      "['amarillo', 'azul', 'rojo', 'blanco', 'amarillo', 'azul', 'rojo', 'blanco']\n"
     ]
    }
   ],
   "source": [
    "\n",
    "# Uso de multiplicar\n",
    "\n",
    "print(colores*2)\n",
    "print(colores)\n",
    "colores*2\n",
    "print(colores)\n",
    "coloresX2 = colores*2\n",
    "print(coloresX2)\n",
    "\n"
   ]
  },
  {
   "cell_type": "code",
   "execution_count": 66,
   "metadata": {},
   "outputs": [
    {
     "name": "stdout",
     "output_type": "stream",
     "text": [
      "['amarillo', 'azul', 'blanco', 'rojo']\n",
      "['rojo', 'blanco', 'azul', 'amarillo']\n"
     ]
    }
   ],
   "source": [
    "# Uso de sort\n",
    "\n",
    "colores.sort()\n",
    "print(colores)\n",
    "\n",
    "colores.sort(reverse=True)\n",
    "print(colores)\n"
   ]
  },
  {
   "cell_type": "code",
   "execution_count": 67,
   "metadata": {},
   "outputs": [
    {
     "name": "stdout",
     "output_type": "stream",
     "text": [
      "El conjunto \"tupla\" es del tipo <class 'tuple'>\n",
      "(2, 4, 6, 8, 10)\n",
      "6\n",
      "El conjunto \"tupla2\" es del tipo <class 'tuple'>\n",
      "(3, 5, 7, 9)\n"
     ]
    }
   ],
   "source": [
    "# ESTRUCTURA DE DATOS: TUPLAS\n",
    "\n",
    "tupla = (2,4,6,8,10)\n",
    "tupla2 = 3,5,7,9      # Tambien se pueden crear Tuplas al no usar simbolos de agrupacion\n",
    "\n",
    "print (f'El conjunto \"tupla\" es del tipo {type(tupla)}')\n",
    "print(tupla)\n",
    "print(tupla[2])\n",
    "\n",
    "print (f'El conjunto \"tupla2\" es del tipo {type(tupla2)}')\n",
    "print(tupla2)\n",
    "\n",
    "\n"
   ]
  },
  {
   "cell_type": "code",
   "execution_count": 68,
   "metadata": {},
   "outputs": [
    {
     "name": "stdout",
     "output_type": "stream",
     "text": [
      "True\n",
      "True\n",
      "False\n"
     ]
    },
    {
     "data": {
      "text/plain": [
       "1"
      ]
     },
     "execution_count": 68,
     "metadata": {},
     "output_type": "execute_result"
    }
   ],
   "source": [
    "\n",
    "# Uso de in > Valida (True/False si el elemento esta en el conjunto)\n",
    "print(6 in tupla)\n",
    "print('azul' in colores)\n",
    "print( 'Azul' in colores) # Se utilizo mayusculas dando un resultado > False\n",
    "\n",
    "# uso de count > # de veces que aparace el elemento en el conjunto\n",
    "tupla.count(4) \n",
    "\n"
   ]
  },
  {
   "cell_type": "code",
   "execution_count": 90,
   "metadata": {},
   "outputs": [
    {
     "name": "stdout",
     "output_type": "stream",
     "text": [
      "['rojo', 'naranja', 'azul', 'amarillo']\n",
      "Busqueda en lista\n",
      "azul\n",
      "['rojo', 'naranja', 'azul']\n",
      "['naranja', 'azul', 'amarillo']\n",
      " \n",
      "(2, 4, 6, 8, 10)\n",
      "Busqueda en tupla\n",
      "6\n",
      "(2, 4, 6)\n",
      "(4, 6, 8, 10)\n"
     ]
    }
   ],
   "source": [
    "# busqueda por indice de referencia > Visualiza el valor del elemento segun su ubicacion\n",
    "# En Lista/Duplas el 1er indice se incluye, pero el ultimo indice NO\n",
    "\n",
    "\n",
    "# En Lista\n",
    "print(colores)\n",
    "print('Busqueda en lista')\n",
    "print(colores[2])\n",
    "print(colores[:3])\n",
    "print(colores[1:])\n",
    "\n",
    "print(' ')\n",
    "print(tupla)\n",
    "print('Busqueda en tupla')\n",
    "\n",
    "# En Dupla\n",
    "print(tupla[2])\n",
    "print(tupla[0:3])\n",
    "print(tupla[1:])"
   ]
  },
  {
   "cell_type": "code",
   "execution_count": 70,
   "metadata": {},
   "outputs": [
    {
     "name": "stdout",
     "output_type": "stream",
     "text": [
      "El conjunto \"tupla_unitaria\" es del tipo <class 'str'>\n",
      "El conjunto \"tupla_unitaria\" es del tipo <class 'tuple'>\n"
     ]
    }
   ],
   "source": [
    "# Creacion de tupla de un solo elemento\n",
    "\n",
    "# si no usamos coma no lo considera tupla sino String\n",
    "\n",
    "tupla_unitaria = ('rojo')\n",
    "print(f'El conjunto \"tupla_unitaria\" es del tipo {type(tupla_unitaria)}')\n",
    "\n",
    "# Usar coma para crear conjunto tipo Tupla\n",
    "tupla_unitaria = ('rojo',)\n",
    "print(f'El conjunto \"tupla_unitaria\" es del tipo {type(tupla_unitaria)}')\n"
   ]
  },
  {
   "cell_type": "code",
   "execution_count": 71,
   "metadata": {},
   "outputs": [
    {
     "name": "stdout",
     "output_type": "stream",
     "text": [
      "['rojo', 'blanco', 'azul', 'amarillo']\n",
      "['rojo', 'naranja', 'azul', 'amarillo']\n",
      "(2, 4, 6, 8, 10)\n"
     ]
    },
    {
     "ename": "TypeError",
     "evalue": "'tuple' object does not support item assignment",
     "output_type": "error",
     "traceback": [
      "\u001b[1;31m---------------------------------------------------------------------------\u001b[0m",
      "\u001b[1;31mTypeError\u001b[0m                                 Traceback (most recent call last)",
      "Cell \u001b[1;32mIn[71], line 12\u001b[0m\n\u001b[0;32m      9\u001b[0m \u001b[38;5;66;03m# En Tupla < NO SE PUEDE MODIFICAR VALORES ASIGNADOS\u001b[39;00m\n\u001b[0;32m     11\u001b[0m \u001b[38;5;28mprint\u001b[39m(tupla)\n\u001b[1;32m---> 12\u001b[0m \u001b[43mtupla\u001b[49m\u001b[43m[\u001b[49m\u001b[38;5;241;43m1\u001b[39;49m\u001b[43m]\u001b[49m \u001b[38;5;241m=\u001b[39m \u001b[38;5;124m'\u001b[39m\u001b[38;5;124m9\u001b[39m\u001b[38;5;124m'\u001b[39m\n\u001b[0;32m     13\u001b[0m \u001b[38;5;28mprint\u001b[39m(tupla)\n",
      "\u001b[1;31mTypeError\u001b[0m: 'tuple' object does not support item assignment"
     ]
    }
   ],
   "source": [
    "# Modificacion de elementos\n",
    "\n",
    "\n",
    "# En Lista\n",
    "print(colores)\n",
    "colores[1] = 'naranja'\n",
    "print(colores)\n",
    "\n",
    "# En Tupla < NO SE PUEDE MODIFICAR VALORES ASIGNADOS\n",
    "\n",
    "print(tupla)\n",
    "tupla[1] = '9'\n",
    "print(tupla)"
   ]
  },
  {
   "cell_type": "code",
   "execution_count": null,
   "metadata": {},
   "outputs": [],
   "source": [
    "# Empaquetado de Tuplas > Usamos Tuplas para Generar una variable que contenga algunas variables\n",
    "\n",
    "x = 2\n",
    "y = 4\n",
    "z = 6\n",
    "coordenadas = x , y , z  # Al ser una ecuacion se puede alternar la ubicacion de los componentes\n",
    "print(type(coordenadas))\n",
    "print(coordenadas)\n"
   ]
  },
  {
   "cell_type": "code",
   "execution_count": null,
   "metadata": {},
   "outputs": [],
   "source": [
    "# Desempaquetado de Tuplas\n",
    "\n",
    "# Se asigna valores a la tupla\n",
    "fecha = 9, 'enero', 80   \n",
    "print(type(fecha))\n",
    "print(fecha)\n",
    "\n",
    "# fecha = dia, mes, year  # >>  No permite reasignar valores\n",
    "\n",
    "dia, mes, year = fecha    # Con fecha al final se considera que a esta se le esta asignando variables\n",
    "\n",
    "print(type(fecha))\n",
    "print(fecha)\n",
    "print('El valor de dia es' , (dia))\n",
    "\n",
    "# errores al desempquetar Duplas\n",
    "\n",
    "# dia, mes = fecha               Muy pocas variables para la cantidad de elementos de la dupla\n",
    "\n",
    "# dia, mes, year, cent = fecha   Muchas variables para la cantidad de elementos de la dupla\n"
   ]
  },
  {
   "cell_type": "code",
   "execution_count": null,
   "metadata": {},
   "outputs": [],
   "source": [
    "# desempaquetado solo de ciertos elementos de la dupla\n",
    "numeros = 2, 4, 6, 8, 10\n",
    "uno = numeros[0]\n",
    "tres = numeros[2]\n",
    "cinco = numeros[4]\n",
    "print(uno)\n",
    "print(tres)\n",
    "print(cinco)\n",
    "\n",
    "# desempaquetado simultaneo de algunos elementos\n",
    "\n",
    "_,dos,_,cuatro,_=numeros\n",
    "\n",
    "print(dos)\n",
    "print(cuatro)"
   ]
  },
  {
   "cell_type": "code",
   "execution_count": null,
   "metadata": {},
   "outputs": [],
   "source": [
    "# Convertir dupla en lista\n",
    "print(numeros)\n",
    "print(type(numeros))\n",
    "lista_numeros = list(numeros)\n",
    "print(type(lista_numeros))\n",
    "print(lista_numeros)"
   ]
  },
  {
   "cell_type": "code",
   "execution_count": null,
   "metadata": {},
   "outputs": [],
   "source": [
    "# Convertir lista en dupla\n",
    "print(colores)\n",
    "print(type(colores))\n",
    "tupla_colores = tuple(colores)\n",
    "print(type(tupla_colores))\n",
    "print(tupla_colores)"
   ]
  },
  {
   "cell_type": "code",
   "execution_count": null,
   "metadata": {},
   "outputs": [
    {
     "name": "stdout",
     "output_type": "stream",
     "text": [
      "{}\n"
     ]
    }
   ],
   "source": [
    "# DICCIONARIOS\n",
    "\n",
    "# Creacion de diccionario\n",
    "diccionario = dict()\n",
    "type(diccionario)\n",
    "print(diccionario)"
   ]
  },
  {
   "cell_type": "code",
   "execution_count": null,
   "metadata": {},
   "outputs": [
    {
     "name": "stdout",
     "output_type": "stream",
     "text": [
      "{'primero': 'uno', 'segundo': 'dos', 'tercero': 'tres'}\n",
      "{'cuatro': 4, 'cinco': 5, 'seis': 6}\n",
      "dos\n",
      "{'color primario': ['rojo', 'azul', 'amarillo'], 'color secundario': ['verde', 'naranja', 'violeta'], 'clave 3': True, 'clave 4': 3}\n"
     ]
    }
   ],
   "source": [
    "# Agregar elementos a diccionario\n",
    "\n",
    "# Individualmente\n",
    "diccionario['primero'] = 'uno'\n",
    "diccionario['segundo'] = 'dos'\n",
    "diccionario['tercero'] = 'tres'\n",
    "print(diccionario)\n",
    "\n",
    "# simultaneamente\n",
    "sgdo_dicc = {'cuatro':4,'cinco':5, 'seis' :6}\n",
    "print(sgdo_dicc)\n",
    "\n",
    "# Valor especifico segun clave respectiva\n",
    "\n",
    "print(diccionario['segundo'])\n",
    "\n",
    "# Incluir LISTAS en Diccionario\n",
    "mi_dicc = {'color primario':['rojo','azul','amarillo'] ,\n",
    "           'color secundario':['verde', 'naranja', 'violeta'],\n",
    "             'clave 3': True ,'clave 4':3}\n",
    "print(mi_dicc)\n"
   ]
  },
  {
   "cell_type": "code",
   "execution_count": null,
   "metadata": {},
   "outputs": [
    {
     "name": "stdout",
     "output_type": "stream",
     "text": [
      "{'color primario': ['rojo', 'azul', 'amarillo'], 'color secundario': ['verde', 'naranja', 'violeta'], 'clave 3': True}\n"
     ]
    }
   ],
   "source": [
    "# Eliminar elementos del diccionario\n",
    "\n",
    "del mi_dicc['clave 4']\n",
    "print(mi_dicc)"
   ]
  },
  {
   "cell_type": "code",
   "execution_count": null,
   "metadata": {},
   "outputs": [
    {
     "name": "stdout",
     "output_type": "stream",
     "text": [
      "<class 'dict'>\n",
      "{'Ecuador': 'Quito', 'Peru': 'Lima', 'Colombia': 'Bogota'}\n"
     ]
    }
   ],
   "source": [
    "# Crear dupla con variables dentro de diccionario\n",
    "\n",
    "paises = ('Ecuador','Peru', 'Colombia')\n",
    "dicc_capitales = {paises[0]:'Quito',\n",
    "                  paises[1]:'Lima',\n",
    "                  paises[2]:'Bogota'}\n",
    "print(type(dicc_capitales))\n",
    "print(dicc_capitales)\n"
   ]
  },
  {
   "cell_type": "code",
   "execution_count": 74,
   "metadata": {},
   "outputs": [
    {
     "name": "stdout",
     "output_type": "stream",
     "text": [
      "<class 'dict'>\n",
      "{'clave1': 'valor 1', 'clave2': (4, 6, 8, 10)}\n",
      "{'clave1': 'valor 1', 'clave2': [4, 6, 8, 10]}\n",
      "{'clave1': 'valor 1', 'clave2': {'numero': [4, 6, 8, 10]}}\n"
     ]
    }
   ],
   "source": [
    "# Incluir tupla en diccionario\n",
    "\n",
    "mi_dicc = {'clave1':'valor 1', 'clave2':(4, 6, 8, 10)}\n",
    "print(type(mi_dicc))\n",
    "print(mi_dicc)\n",
    "\n",
    "# Incluir lista en diccionario\n",
    "mi_dicc = {'clave1':'valor 1', 'clave2':[4, 6, 8, 10]}\n",
    "print(mi_dicc)\n",
    "\n",
    "# Incluir Diccionario en Diccionario\n",
    "mi_dicc = {'clave1':'valor 1', 'clave2':{'numero':[4, 6, 8, 10]}}\n",
    "print(mi_dicc)"
   ]
  },
  {
   "cell_type": "code",
   "execution_count": 89,
   "metadata": {},
   "outputs": [
    {
     "name": "stdout",
     "output_type": "stream",
     "text": [
      "dict_keys(['clave1', 'clave2'])\n",
      "dict_values(['valor 1', {'numero': [4, 6, 8, 10]}])\n",
      "El diccionario \"mi_dicc\" tiene 2 pares clave:valor\n",
      "La tupla \"tupla\" tiene 5 elementos\n",
      "La lista \"colores\" tiene 4 elementos\n"
     ]
    }
   ],
   "source": [
    "# FUNCIONES PARA DICCIONARIO\n",
    "\n",
    "# keys: Imprime las claves del diccionario\n",
    "print(mi_dicc.keys())\n",
    "\n",
    "# value: Imprime los valores del diccionario\n",
    "print(mi_dicc.values())\n",
    "\n",
    "# len: Imprime cuantos pares clave:valor tiene el diccionario. Sirve tambien para tuplas y listas\n",
    "print(f'El diccionario \"mi_dicc\" tiene {len(mi_dicc)} pares clave:valor')\n",
    "print(f'La tupla \"tupla\" tiene {len(tupla)} elementos')\n",
    "print(f'La lista \"colores\" tiene {len(colores)} elementos')\n"
   ]
  }
 ],
 "metadata": {
  "kernelspec": {
   "display_name": "Python 3",
   "language": "python",
   "name": "python3"
  },
  "language_info": {
   "codemirror_mode": {
    "name": "ipython",
    "version": 3
   },
   "file_extension": ".py",
   "mimetype": "text/x-python",
   "name": "python",
   "nbconvert_exporter": "python",
   "pygments_lexer": "ipython3",
   "version": "3.11.7"
  }
 },
 "nbformat": 4,
 "nbformat_minor": 2
}
