{
 "cells": [
  {
   "cell_type": "code",
   "execution_count": 9,
   "metadata": {},
   "outputs": [],
   "source": [
    "# Numero Factorial\n",
    "def Factorial(numero):\n",
    "    if type(numero) != int:\n",
    "        return 'Ingresar numero entero'\n",
    "    if numero < 1:\n",
    "        return 'Ingresar un numero mayor a cero'\n",
    "    if numero > 1:\n",
    "        numero = numero * Factorial(numero - 1)\n",
    "    return numero"
   ]
  },
  {
   "cell_type": "code",
   "execution_count": 10,
   "metadata": {},
   "outputs": [
    {
     "data": {
      "text/plain": [
       "120"
      ]
     },
     "execution_count": 10,
     "metadata": {},
     "output_type": "execute_result"
    }
   ],
   "source": [
    "Factorial(5)"
   ]
  },
  {
   "cell_type": "code",
   "execution_count": 11,
   "metadata": {},
   "outputs": [],
   "source": [
    "# Primo\n",
    "\n",
    "def EsPrimo(valor):\n",
    "    primo = True\n",
    "    if type(valor) != int:\n",
    "        return \"Valor nulo\"\n",
    "    for div in range (2,valor):\n",
    "        if valor % div == 0:\n",
    "            primo = False\n",
    "            break\n",
    "        \n",
    "    return primo"
   ]
  },
  {
   "cell_type": "code",
   "execution_count": 15,
   "metadata": {},
   "outputs": [
    {
     "data": {
      "text/plain": [
       "'Valor nulo'"
      ]
     },
     "execution_count": 15,
     "metadata": {},
     "output_type": "execute_result"
    }
   ],
   "source": [
    "EsPrimo(6.4)"
   ]
  },
  {
   "cell_type": "code",
   "execution_count": 65,
   "metadata": {},
   "outputs": [],
   "source": [
    "# Clase Animal\n",
    "\n",
    "class Animal:\n",
    "    def __init__ (self, edad,especie, color):\n",
    "        self.edad = edad\n",
    "        self.especie = especie\n",
    "        self.color = color\n",
    "        \n",
    "        if (type(edad) != int):\n",
    "            print (\"Ingrese un numero entero\")\n",
    "        \n",
    "        elif (edad <= 0):\n",
    "            print (\"Ingrese un valor igual o mayor a cero\")\n",
    "        else:\n",
    "            print(self.edad)\n",
    "            print(self.especie)\n",
    "            print(self.color)\n",
    "            \n",
    "\n",
    "    def cumplirAnios(self):  \n",
    "        self.edad = self.edad + 1\n",
    "\n"
   ]
  },
  {
   "cell_type": "code",
   "execution_count": 68,
   "metadata": {},
   "outputs": [
    {
     "name": "stdout",
     "output_type": "stream",
     "text": [
      "4\n",
      "perro\n",
      "blanco\n"
     ]
    }
   ],
   "source": [
    "mi_animal = Animal(4,'perro','blanco')\n",
    "\n",
    "\n"
   ]
  },
  {
   "cell_type": "code",
   "execution_count": 71,
   "metadata": {},
   "outputs": [
    {
     "name": "stdout",
     "output_type": "stream",
     "text": [
      "perro\n",
      "blanco\n",
      "7\n"
     ]
    }
   ],
   "source": [
    "mi_animal.cumplirAnios()\n",
    "print(mi_animal.especie)\n",
    "print(mi_animal.color)\n",
    "print(mi_animal.edad)\n"
   ]
  }
 ],
 "metadata": {
  "kernelspec": {
   "display_name": "Python 3",
   "language": "python",
   "name": "python3"
  },
  "language_info": {
   "codemirror_mode": {
    "name": "ipython",
    "version": 3
   },
   "file_extension": ".py",
   "mimetype": "text/x-python",
   "name": "python",
   "nbconvert_exporter": "python",
   "pygments_lexer": "ipython3",
   "version": "3.11.7"
  }
 },
 "nbformat": 4,
 "nbformat_minor": 2
}
